{
  "cells": [
    {
      "cell_type": "markdown",
      "metadata": {
        "id": "view-in-github",
        "colab_type": "text"
      },
      "source": [
        "<a href=\"https://colab.research.google.com/github/arielmeragelman/Practicas_profesionales_1/blob/main/Regresion_logistica_desbalanceado.ipynb\" target=\"_parent\"><img src=\"https://colab.research.google.com/assets/colab-badge.svg\" alt=\"Open In Colab\"/></a>"
      ]
    },
    {
      "cell_type": "code",
      "execution_count": 2,
      "id": "e0027f4e",
      "metadata": {
        "id": "e0027f4e"
      },
      "outputs": [],
      "source": [
        "from numpy.random import seed\n",
        "import numpy as np\n",
        "from numpy.random import normal,uniform\n",
        "import pandas as pd\n",
        "import random\n",
        "\n",
        "\n",
        "\n",
        "seed(1)\n",
        "# CONSTANTE PARA VARIAR LOS VALORES DE LA MATRIZ\n",
        "parametro_controlado=100\n",
        "\n",
        "#Genero valores distribuidos normalmente , en el caso de una de las matrices la media rondara por parametro_controlado\n",
        "# y la otra matriz la media rondara parametro_controlado/2\n",
        "\n",
        "a = normal(loc=0, scale=1, size=20)+(parametro_controlado/2)\n",
        "b = normal(loc=0, scale=1, size=200)+parametro_controlado\n",
        "\n",
        "a=a.round(0)\n",
        "b=b.round(0)\n",
        "\n",
        "#Genero valores distribuidos uniformemente , en el caso de una de las matrices la media rondara por parametro_controlado\n",
        "# y la otra matriz la media rondara parametro_controlado/2\n",
        "\n",
        "c = np.random.randint(low=parametro_controlado*0.42, high=parametro_controlado*0.53, size=20, dtype='l') \n",
        "d = np.random.randint(low=parametro_controlado*0.9, high=parametro_controlado*1.1, size=200, dtype='l')\n",
        "\n",
        "c=c.round(0)\n",
        "d=d.round(0)\n",
        "\n",
        "\n",
        "#Generamos las matrices de identificacion (y label) donde pondremos la matriz con media parametro_controlado/2 como 0 y la otra como 1\n",
        "\n",
        "label_M1=np.ones((1,200))\n",
        "label_M2=np.zeros((1,20))\n",
        "\n",
        "\n",
        "\n",
        "# GENERAMOS VALORES SESGADOS\n",
        "\n",
        "\n",
        "b2=[]\n",
        "for i in b:\n",
        "    \n",
        "    \n",
        "    if i < (parametro_controlado*0.1) or i > (parametro_controlado) :\n",
        "        b2.append(random.uniform(parametro_controlado-5, parametro_controlado))\n",
        "    else:\n",
        "        b2.append(i)\n",
        "\n",
        "a2=[]\n",
        "for i in a:\n",
        "    \n",
        "    if i < ((parametro_controlado/2)*0.50) or i > (parametro_controlado/2) :\n",
        "        a2.append(random.uniform( (parametro_controlado/2)*0.5 , (parametro_controlado/2)*0.98))\n",
        "    else:\n",
        "        a2.append(i)\n",
        "\n",
        "\n",
        "# Convertimos los objetos numpy y la lista en dataframe\n",
        "a = pd.DataFrame (a, columns = ['normal'])\n",
        "c = pd.DataFrame (c, columns = ['uniforme'])\n",
        "a2 = pd.DataFrame (a2, columns = ['Sesgada'])\n",
        "\n",
        "a2=a2.round(0)\n",
        "\n",
        "\n",
        "\n",
        "# Convertimos los objetos numpy y la lista en dataframe\n",
        "\n",
        "b = pd.DataFrame (b, columns = ['normal'])\n",
        "d = pd.DataFrame (d, columns = ['uniforme'])\n",
        "b2 = pd.DataFrame (b2, columns = ['Sesgada'])\n",
        "\n",
        "b2=b2.round(0)\n",
        "\n",
        "\n",
        "#Generamos una lista de columnas\n",
        "frames = [a, c, a2]\n",
        "frames2 = [b, d, b2]\n",
        "\n",
        "\n",
        "#Concatenamos las columnas para generar un dataframe con 3 columnas\n",
        "matriz1= pd.concat(frames,axis=1)\n",
        "\n",
        "matriz2= pd.concat(frames2,axis=1)"
      ]
    },
    {
      "cell_type": "code",
      "execution_count": 2,
      "id": "d2becb18",
      "metadata": {
        "id": "d2becb18"
      },
      "outputs": [],
      "source": [
        ""
      ]
    },
    {
      "cell_type": "code",
      "execution_count": 3,
      "id": "b1592537",
      "metadata": {
        "colab": {
          "base_uri": "https://localhost:8080/",
          "height": 678
        },
        "id": "b1592537",
        "outputId": "aef7972d-1d3c-4dfe-f388-73603a2a4b00"
      },
      "outputs": [
        {
          "output_type": "stream",
          "name": "stderr",
          "text": [
            "/usr/local/lib/python3.7/dist-packages/seaborn/distributions.py:2619: FutureWarning: `distplot` is a deprecated function and will be removed in a future version. Please adapt your code to use either `displot` (a figure-level function with similar flexibility) or `histplot` (an axes-level function for histograms).\n",
            "  warnings.warn(msg, FutureWarning)\n"
          ]
        },
        {
          "output_type": "execute_result",
          "data": {
            "text/plain": [
              "<matplotlib.axes._subplots.AxesSubplot at 0x7f14a1bab110>"
            ]
          },
          "metadata": {},
          "execution_count": 3
        },
        {
          "output_type": "display_data",
          "data": {
            "text/plain": [
              "<Figure size 1080x720 with 3 Axes>"
            ],
            "image/png": "[encoded data removed]"
          },
          "metadata": {
            "needs_background": "light"
          }
        }
      ],
      "source": [
        "# CONTROLAMOS GRAFICAMENTE LAS MATRICES OBTENIDAS\n",
        "\n",
        "\n",
        "import matplotlib.pyplot as plt\n",
        "import seaborn as sns\n",
        "\n",
        "\n",
        "plt.figure(figsize=(15,10))\n",
        "plt.subplot(3, 2, 1)\n",
        "\n",
        "sns.distplot(matriz2['normal'], hist=True, kde=False, \n",
        "             bins=int(20), color = 'red',\n",
        "             hist_kws={'edgecolor':'black'})\n",
        "\n",
        "plt.subplot(2, 2, 2)\n",
        "\n",
        "sns.distplot(matriz2['uniforme'], hist=True, kde=False, \n",
        "             bins=int(20), color = 'yellow',\n",
        "             hist_kws={'edgecolor':'black'})\n",
        "\n",
        "plt.subplot(2, 2, 3)\n",
        "\n",
        "\n",
        "sns.distplot(matriz2['Sesgada'], hist=True, kde=False, \n",
        "             bins=int(20), color = 'yellow',\n",
        "             hist_kws={'edgecolor':'black'})\n"
      ]
    },
    {
      "cell_type": "code",
      "execution_count": 4,
      "id": "cwdMOmMPlF_0",
      "metadata": {
        "colab": {
          "base_uri": "https://localhost:8080/",
          "height": 678
        },
        "id": "cwdMOmMPlF_0",
        "outputId": "859778a3-b8b8-4d07-89e0-3e203c0d1e85"
      },
      "outputs": [
        {
          "output_type": "stream",
          "name": "stderr",
          "text": [
            "/usr/local/lib/python3.7/dist-packages/seaborn/distributions.py:2619: FutureWarning: `distplot` is a deprecated function and will be removed in a future version. Please adapt your code to use either `displot` (a figure-level function with similar flexibility) or `histplot` (an axes-level function for histograms).\n",
            "  warnings.warn(msg, FutureWarning)\n"
          ]
        },
        {
          "output_type": "execute_result",
          "data": {
            "text/plain": [
              "<matplotlib.axes._subplots.AxesSubplot at 0x7f14a15770d0>"
            ]
          },
          "metadata": {},
          "execution_count": 4
        },
        {
          "output_type": "display_data",
          "data": {
            "text/plain": [
              "<Figure size 1080x720 with 3 Axes>"
            ],
            "image/png": "[encoded data removed]"
          },
          "metadata": {
            "needs_background": "light"
          }
        }
      ],
      "source": [
        "plt.figure(figsize=(15,10))\n",
        "plt.subplot(3, 2, 1)\n",
        "\n",
        "sns.distplot(matriz1['normal'], hist=True, kde=False, \n",
        "             bins=int(20), color = 'red',\n",
        "             hist_kws={'edgecolor':'black'})\n",
        "\n",
        "plt.subplot(2, 2, 2)\n",
        "\n",
        "sns.distplot(matriz1['uniforme'], hist=True, kde=False, \n",
        "             bins=int(20), color = 'yellow',\n",
        "             hist_kws={'edgecolor':'black'})\n",
        "\n",
        "plt.subplot(2, 2, 3)\n",
        "\n",
        "\n",
        "sns.distplot(matriz1['Sesgada'], hist=True, kde=False, \n",
        "             bins=int(20), color = 'yellow',\n",
        "             hist_kws={'edgecolor':'black'})\n",
        "\n",
        "\n"
      ]
    },
    {
      "cell_type": "code",
      "execution_count": 5,
      "id": "RAqmqgcn7iy3",
      "metadata": {
        "colab": {
          "base_uri": "https://localhost:8080/"
        },
        "id": "RAqmqgcn7iy3",
        "outputId": "87c16d56-2510-4aed-c646-0553085b4db7"
      },
      "outputs": [
        {
          "output_type": "stream",
          "name": "stdout",
          "text": [
            "FORMATO DE LA MATRIZ 1(20, 3)\n",
            "FORMATO DE LA MATRIZ 2(200, 3)\n",
            "-----\n",
            "Head de la MATRIZ 1\n",
            "   normal  uniforme  Sesgada\n",
            "0    52.0        44     39.0\n",
            "1    49.0        47     49.0\n",
            "2    49.0        46     49.0\n",
            "3    49.0        48     49.0\n",
            "4    51.0        44     39.0\n",
            "Head de la MATRIZ 2\n",
            "   normal  uniforme  Sesgada\n",
            "0    99.0       102     99.0\n",
            "1   101.0       107     96.0\n",
            "2   101.0        91     97.0\n",
            "3   101.0       100     99.0\n",
            "4   101.0        99     96.0\n",
            "-----\n",
            "Columnas de la MATRIZ 1\n",
            "Index(['normal', 'uniforme', 'Sesgada'], dtype='object')\n",
            "Columnas de la MATRIZ 2\n",
            "Index(['normal', 'uniforme', 'Sesgada'], dtype='object')\n",
            "-----\n",
            "Info MATRIZ 1\n",
            "<class 'pandas.core.frame.DataFrame'>\n",
            "RangeIndex: 20 entries, 0 to 19\n",
            "Data columns (total 3 columns):\n",
            " #   Column    Non-Null Count  Dtype  \n",
            "---  ------    --------------  -----  \n",
            " 0   normal    20 non-null     float64\n",
            " 1   uniforme  20 non-null     int64  \n",
            " 2   Sesgada   20 non-null     float64\n",
            "dtypes: float64(2), int64(1)\n",
            "memory usage: 608.0 bytes\n",
            "None\n",
            "Info MATRIZ 2\n",
            "<class 'pandas.core.frame.DataFrame'>\n",
            "RangeIndex: 200 entries, 0 to 199\n",
            "Data columns (total 3 columns):\n",
            " #   Column    Non-Null Count  Dtype  \n",
            "---  ------    --------------  -----  \n",
            " 0   normal    200 non-null    float64\n",
            " 1   uniforme  200 non-null    int64  \n",
            " 2   Sesgada   200 non-null    float64\n",
            "dtypes: float64(2), int64(1)\n",
            "memory usage: 4.8 KB\n",
            "None\n"
          ]
        }
      ],
      "source": [
        "# SIMULAMOS LOS PASOS DE EL ANALISIS EXPLORATORIO DE DATOS\n",
        "# SIMULAMOS YA QUE ESTAMOS PARTIENDO DE UNA MATRIZ GENERADA POR NOSOTROS\n",
        "\n",
        "print(\"FORMATO DE LA MATRIZ 1\"+str(matriz1.shape))\n",
        "print(\"FORMATO DE LA MATRIZ 2\"+str(matriz2.shape))\n",
        "print(\"-\"*5)\n",
        "print(\"Head de la MATRIZ 1\")\n",
        "print(matriz1.head())\n",
        "print(\"Head de la MATRIZ 2\")\n",
        "print(matriz2.head())\n",
        "\n",
        "print(\"-\"*5)\n",
        "print(\"Columnas de la MATRIZ 1\")\n",
        "print(matriz1.columns)\n",
        "print(\"Columnas de la MATRIZ 2\")\n",
        "print(matriz2.columns)\n",
        "\n",
        "print(\"-\"*5)\n",
        "print(\"Info MATRIZ 1\")\n",
        "print(matriz1.info())\n",
        "print(\"Info MATRIZ 2\")\n",
        "print(matriz2.info())\n",
        "\n",
        "\n",
        "\n",
        "\n",
        "\n"
      ]
    },
    {
      "cell_type": "code",
      "execution_count": 7,
      "id": "9l4UXNkxJh87",
      "metadata": {
        "colab": {
          "base_uri": "https://localhost:8080/"
        },
        "id": "9l4UXNkxJh87",
        "outputId": "9692a920-0c20-4ace-9e8f-db241b9cddd0"
      },
      "outputs": [
        {
          "output_type": "stream",
          "name": "stdout",
          "text": [
            "Valores nulos en matriz1 \n",
            "0\n",
            "Valores nulos en matriz2 \n",
            "0\n"
          ]
        }
      ],
      "source": [
        "  # CONTROLAMOS EXISTENCIA DE VALORES NULOS\n",
        "  ac=0\n",
        "  for i in matriz1:\n",
        "    ac=matriz1[i].isnull().sum()+ac\n",
        "  print(\"Valores nulos en matriz1 \\n\"+ str(ac))\n",
        "    \n",
        "  ac=0\n",
        "  for i in matriz2:\n",
        "    ac=matriz2[i].isnull().sum()+ac\n",
        "  print(\"Valores nulos en matriz2 \\n\"+ str(ac))"
      ]
    },
    {
      "cell_type": "code",
      "execution_count": 8,
      "id": "2My0WtHubzpY",
      "metadata": {
        "colab": {
          "base_uri": "https://localhost:8080/"
        },
        "id": "2My0WtHubzpY",
        "outputId": "5e4dc270-31bb-4122-c93f-5eba65709bab"
      },
      "outputs": [
        {
          "output_type": "stream",
          "name": "stdout",
          "text": [
            "       normal  uniforme  Sesgada\n",
            "count    20.0      20.0     20.0\n",
            "mean     50.0      47.0     45.0\n",
            "std       1.0       3.0      7.0\n",
            "min      48.0      42.0     31.0\n",
            "25%      49.0      44.0     39.0\n",
            "50%      50.0      48.0     49.0\n",
            "75%      51.0      49.0     50.0\n",
            "max      52.0      52.0     50.0 2\n",
            "       normal  uniforme  Sesgada\n",
            "count   200.0     200.0    200.0\n",
            "mean    100.0      99.0     99.0\n",
            "std       1.0       6.0      1.0\n",
            "min      98.0      90.0     95.0\n",
            "25%      99.0      94.0     98.0\n",
            "50%     100.0     100.0     99.0\n",
            "75%     101.0     105.0    100.0\n",
            "max     103.0     109.0    100.0 2\n"
          ]
        }
      ],
      "source": [
        "# CONTROLAMOS LA \"descripcion\" DE LAS MATRICES , COMO ESTAN CONFORMADAS\n",
        "\n",
        "print(round(matriz1.describe()),2)\n",
        "\n",
        "print(round(matriz2.describe()),2)"
      ]
    },
    {
      "cell_type": "code",
      "execution_count": 9,
      "id": "TRsYtbRAg1Lf",
      "metadata": {
        "colab": {
          "base_uri": "https://localhost:8080/",
          "height": 609
        },
        "id": "TRsYtbRAg1Lf",
        "outputId": "6013e9e5-b9a1-428c-de25-355c2369f45d"
      },
      "outputs": [
        {
          "output_type": "execute_result",
          "data": {
            "text/plain": [
              "Text(0, 0.5, 'Sesgada')"
            ]
          },
          "metadata": {},
          "execution_count": 9
        },
        {
          "output_type": "display_data",
          "data": {
            "text/plain": [
              "<Figure size 1080x720 with 3 Axes>"
            ],
            "image/png": "[encoded data removed]"
          },
          "metadata": {
            "needs_background": "light"
          }
        }
      ],
      "source": [
        "# ANALIZAMOS GRAFICAMENTE LA DISPERCION DE DATOS\n",
        "\n",
        "plt.figure(figsize=(15,10))\n",
        "\n",
        "\n",
        "plt.subplot(2, 2, 1)\n",
        "fig = matriz2.boxplot(column='normal')\n",
        "fig.set_title('')\n",
        "fig.set_ylabel('normal')\n",
        "\n",
        "\n",
        "\n",
        "\n",
        "plt.subplot(2, 2, 2)\n",
        "fig = matriz2.boxplot(column='uniforme')\n",
        "fig.set_title('')\n",
        "fig.set_ylabel('uniforme')\n",
        "\n",
        "\n",
        "plt.subplot(2, 2, 3)\n",
        "fig = matriz2.boxplot(column='Sesgada')\n",
        "fig.set_title('')\n",
        "fig.set_ylabel('Sesgada')"
      ]
    },
    {
      "cell_type": "code",
      "execution_count": 10,
      "id": "PA5-AIDMh-94",
      "metadata": {
        "colab": {
          "base_uri": "https://localhost:8080/",
          "height": 609
        },
        "id": "PA5-AIDMh-94",
        "outputId": "d79acc48-3714-4d8d-addb-7f12fdcb1f3f"
      },
      "outputs": [
        {
          "output_type": "execute_result",
          "data": {
            "text/plain": [
              "Text(0, 0.5, 'Sesgada')"
            ]
          },
          "metadata": {},
          "execution_count": 10
        },
        {
          "output_type": "display_data",
          "data": {
            "text/plain": [
              "<Figure size 1080x720 with 3 Axes>"
            ],
            "image/png": "[encoded data removed]"
          },
          "metadata": {
            "needs_background": "light"
          }
        }
      ],
      "source": [
        "plt.figure(figsize=(15,10))\n",
        "\n",
        "\n",
        "plt.subplot(2, 2, 1)\n",
        "fig = matriz1.boxplot(column='normal')\n",
        "fig.set_title('')\n",
        "fig.set_ylabel('normal')\n",
        "\n",
        "\n",
        "\n",
        "\n",
        "plt.subplot(2, 2, 2)\n",
        "fig = matriz1.boxplot(column='uniforme')\n",
        "fig.set_title('')\n",
        "fig.set_ylabel('uniforme')\n",
        "\n",
        "\n",
        "plt.subplot(2, 2, 3)\n",
        "fig = matriz1.boxplot(column='Sesgada')\n",
        "fig.set_title('')\n",
        "fig.set_ylabel('Sesgada')"
      ]
    },
    {
      "cell_type": "code",
      "execution_count": 11,
      "id": "JXel-MrWkk-W",
      "metadata": {
        "colab": {
          "base_uri": "https://localhost:8080/",
          "height": 326
        },
        "id": "JXel-MrWkk-W",
        "outputId": "68a6e701-7eba-4598-e28c-9437bb676e76"
      },
      "outputs": [
        {
          "output_type": "execute_result",
          "data": {
            "text/plain": [
              "Text(0, 0.5, 'Sesgada')"
            ]
          },
          "metadata": {},
          "execution_count": 11
        },
        {
          "output_type": "display_data",
          "data": {
            "text/plain": [
              "<Figure size 1080x720 with 2 Axes>"
            ],
            "image/png": "[encoded data removed]"
          },
          "metadata": {
            "needs_background": "light"
          }
        }
      ],
      "source": [
        "# DISTRIBUCION DE LOS OUTLIERS\n",
        "\n",
        "plt.figure(figsize=(15,10))\n",
        "\n",
        "\n",
        "plt.subplot(2, 2, 1)\n",
        "fig = matriz2.normal.hist(bins=10)\n",
        "fig.set_xlabel('normal')\n",
        "fig.set_ylabel('normal')\n",
        "\n",
        "plt.subplot(2, 2, 2)\n",
        "fig = matriz1.Sesgada.hist(bins=10)\n",
        "fig.set_xlabel('Sesgada')\n",
        "fig.set_ylabel('Sesgada')\n",
        "\n"
      ]
    },
    {
      "cell_type": "code",
      "execution_count": 12,
      "id": "9PtA_Fblk_y2",
      "metadata": {
        "colab": {
          "base_uri": "https://localhost:8080/"
        },
        "id": "9PtA_Fblk_y2",
        "outputId": "3e5b3faa-5739-4568-bd41-bd4ae6e153d2"
      },
      "outputs": [
        {
          "output_type": "stream",
          "name": "stdout",
          "text": [
            "50.0\n",
            "39.0\n",
            "11.0\n",
            "Sesgada - de matriz1 outliers are values < 6.0 or > 83.0\n"
          ]
        }
      ],
      "source": [
        "#EVALUAMOS MATEMATICAMENTE LOS LIMITES DE LOS OUTLIERS\n",
        "\n",
        "q3=matriz1.Sesgada.quantile(0.75)\n",
        "q1=matriz1.Sesgada.quantile(0.25)\n",
        "IQR =  q3-q1\n",
        "print(q3)\n",
        "print(q1)\n",
        "print(IQR)\n",
        "Lower_fence = matriz1.Sesgada.quantile(0.25) - (IQR * 3)\n",
        "Upper_fence = matriz1.Sesgada.quantile(0.75) + (IQR * 3)\n",
        "print('Sesgada - de matriz1 outliers are values < {lowerboundary} or > {upperboundary}'.format(lowerboundary=Lower_fence, upperboundary=Upper_fence))"
      ]
    },
    {
      "cell_type": "code",
      "execution_count": 13,
      "id": "ciA95BevnEkJ",
      "metadata": {
        "id": "ciA95BevnEkJ",
        "outputId": "9cbe68e0-25b0-4f51-f5d4-917c7603d7a4",
        "colab": {
          "base_uri": "https://localhost:8080/"
        }
      },
      "outputs": [
        {
          "output_type": "stream",
          "name": "stdout",
          "text": [
            "(220, 3)\n",
            "(220, 1)\n"
          ]
        }
      ],
      "source": [
        "\n",
        "# CONVIERTO LOS OBJETOS NP EN DATAFRAME Y LOS TRASPONGO, LUEGO LOS CONCATENO PARA ARMAR UNA SOLA MATRIZ \n",
        "\n",
        "label_M1=pd.DataFrame(label_M1).T\n",
        "label_M2=pd.DataFrame(label_M2).T\n",
        "\n",
        "x_label = pd.concat([matriz1,matriz2])\n",
        "y_label = pd.concat([label_M1,label_M2])\n",
        "\n",
        "print(x_label.shape)\n",
        "\n",
        "print(y_label.shape)"
      ]
    },
    {
      "cell_type": "code",
      "execution_count": 14,
      "id": "4a7ac72f",
      "metadata": {
        "id": "4a7ac72f"
      },
      "outputs": [],
      "source": [
        "# REALIZO LA DIVISION DE ELEMENTOS DE ENTRENAMIENTO Y DE PRUEBA\n",
        "\n",
        "from sklearn.model_selection import train_test_split\n",
        "\n",
        "X_train, X_test, y_train, y_test = train_test_split(x_label, y_label, test_size = 0.2, random_state = 0)"
      ]
    },
    {
      "cell_type": "code",
      "execution_count": 15,
      "id": "9314dedd",
      "metadata": {
        "id": "9314dedd",
        "outputId": "50750331-4f9b-4def-c9b4-97a21461cd1f",
        "colab": {
          "base_uri": "https://localhost:8080/"
        }
      },
      "outputs": [
        {
          "output_type": "stream",
          "name": "stdout",
          "text": [
            "Cantidad de valores de la matriz1: normal      162\n",
            "uniforme    162\n",
            "Sesgada     162\n",
            "dtype: int64\n",
            " Cantidad de valores de la matriz2normal      14\n",
            "uniforme    14\n",
            "Sesgada     14\n",
            "dtype: int64\n",
            "porcentage entre matrices:normal      11.571429\n",
            "uniforme    11.571429\n",
            "Sesgada     11.571429\n",
            "dtype: float64\n"
          ]
        }
      ],
      "source": [
        "# ANALIZAMOS LA DISTRIBUCION DE LOS ELEMENTOS x_label donde se mezclan validos e invalidos (1 y 0)\n",
        "c_va=X_train[X_train['normal']>70].count()\n",
        "c_inva=X_train[X_train['normal']<70].count()\n",
        "\n",
        "print(\"Cantidad de valores de la matriz1: \"+str(c_va)+\"\\n Cantidad de valores de la matriz2\"+str(c_inva) )\n",
        "print(\"porcentage entre matrices:\" + str(c_va/c_inva))"
      ]
    },
    {
      "cell_type": "code",
      "execution_count": 16,
      "id": "50b1a842",
      "metadata": {
        "id": "50b1a842"
      },
      "outputs": [],
      "source": [
        "# PONGO EN ESCALA LOS VALORES DE LAS MATRICES DE DATOS\n",
        "cols = X_train.columns\n",
        "\n",
        "\n",
        "from sklearn.preprocessing import MinMaxScaler\n",
        "\n",
        "scaler = MinMaxScaler()\n",
        "\n",
        "X_train = scaler.fit_transform(X_train)\n",
        "\n",
        "X_test = scaler.transform(X_test)"
      ]
    },
    {
      "cell_type": "code",
      "execution_count": 17,
      "id": "15b7eed1",
      "metadata": {
        "id": "15b7eed1",
        "outputId": "9e69b4b6-46d7-45a9-d36d-69da1da9acae",
        "colab": {
          "base_uri": "https://localhost:8080/",
          "height": 300
        }
      },
      "outputs": [
        {
          "output_type": "execute_result",
          "data": {
            "text/plain": [
              "           normal    uniforme     Sesgada\n",
              "count  176.000000  176.000000  176.000000\n",
              "mean     0.875000    0.792486    0.919219\n",
              "std      0.247125    0.228368    0.221385\n",
              "min      0.000000    0.000000    0.000000\n",
              "25%      0.927273    0.761194    0.971014\n",
              "50%      0.945455    0.828358    0.985507\n",
              "75%      0.963636    0.925373    1.000000\n",
              "max      1.000000    1.000000    1.000000"
            ],
            "text/html": [
              "\n",
              "  <div id=\"df-239d074c-e97a-499f-90b9-e6d0f8178d05\">\n",
              "    <div class=\"colab-df-container\">\n",
              "      <div>\n",
              "<style scoped>\n",
              "    .dataframe tbody tr th:only-of-type {\n",
              "        vertical-align: middle;\n",
              "    }\n",
              "\n",
              "    .dataframe tbody tr th {\n",
              "        vertical-align: top;\n",
              "    }\n",
              "\n",
              "    .dataframe thead tr th {\n",
              "        text-align: left;\n",
              "    }\n",
              "</style>\n",
              "<table border=\"1\" class=\"dataframe\">\n",
              "  <thead>\n",
              "    <tr>\n",
              "      <th></th>\n",
              "      <th>normal</th>\n",
              "      <th>uniforme</th>\n",
              "      <th>Sesgada</th>\n",
              "    </tr>\n",
              "  </thead>\n",
              "  <tbody>\n",
              "    <tr>\n",
              "      <th>count</th>\n",
              "      <td>176.000000</td>\n",
              "      <td>176.000000</td>\n",
              "      <td>176.000000</td>\n",
              "    </tr>\n",
              "    <tr>\n",
              "      <th>mean</th>\n",
              "      <td>0.875000</td>\n",
              "      <td>0.792486</td>\n",
              "      <td>0.919219</td>\n",
              "    </tr>\n",
              "    <tr>\n",
              "      <th>std</th>\n",
              "      <td>0.247125</td>\n",
              "      <td>0.228368</td>\n",
              "      <td>0.221385</td>\n",
              "    </tr>\n",
              "    <tr>\n",
              "      <th>min</th>\n",
              "      <td>0.000000</td>\n",
              "      <td>0.000000</td>\n",
              "      <td>0.000000</td>\n",
              "    </tr>\n",
              "    <tr>\n",
              "      <th>25%</th>\n",
              "      <td>0.927273</td>\n",
              "      <td>0.761194</td>\n",
              "      <td>0.971014</td>\n",
              "    </tr>\n",
              "    <tr>\n",
              "      <th>50%</th>\n",
              "      <td>0.945455</td>\n",
              "      <td>0.828358</td>\n",
              "      <td>0.985507</td>\n",
              "    </tr>\n",
              "    <tr>\n",
              "      <th>75%</th>\n",
              "      <td>0.963636</td>\n",
              "      <td>0.925373</td>\n",
              "      <td>1.000000</td>\n",
              "    </tr>\n",
              "    <tr>\n",
              "      <th>max</th>\n",
              "      <td>1.000000</td>\n",
              "      <td>1.000000</td>\n",
              "      <td>1.000000</td>\n",
              "    </tr>\n",
              "  </tbody>\n",
              "</table>\n",
              "</div>\n",
              "      <button class=\"colab-df-convert\" onclick=\"convertToInteractive('df-239d074c-e97a-499f-90b9-e6d0f8178d05')\"\n",
              "              title=\"Convert this dataframe to an interactive table.\"\n",
              "              style=\"display:none;\">\n",
              "        \n",
              "  <svg xmlns=\"http://www.w3.org/2000/svg\" height=\"24px\"viewBox=\"0 0 24 24\"\n",
              "       width=\"24px\">\n",
              "    <path d=\"M0 0h24v24H0V0z\" fill=\"none\"/>\n",
              "    <path d=\"M18.56 5.44l.94 2.06.94-2.06 2.06-.94-2.06-.94-.94-2.06-.94 2.06-2.06.94zm-11 1L8.5 8.5l.94-2.06 2.06-.94-2.06-.94L8.5 2.5l-.94 2.06-2.06.94zm10 10l.94 2.06.94-2.06 2.06-.94-2.06-.94-.94-2.06-.94 2.06-2.06.94z\"/><path d=\"M17.41 7.96l-1.37-1.37c-.4-.4-.92-.59-1.43-.59-.52 0-1.04.2-1.43.59L10.3 9.45l-7.72 7.72c-.78.78-.78 2.05 0 2.83L4 21.41c.39.39.9.59 1.41.59.51 0 1.02-.2 1.41-.59l7.78-7.78 2.81-2.81c.8-.78.8-2.07 0-2.86zM5.41 20L4 18.59l7.72-7.72 1.47 1.35L5.41 20z\"/>\n",
              "  </svg>\n",
              "      </button>\n",
              "      \n",
              "  <style>\n",
              "    .colab-df-container {\n",
              "      display:flex;\n",
              "      flex-wrap:wrap;\n",
              "      gap: 12px;\n",
              "    }\n",
              "\n",
              "    .colab-df-convert {\n",
              "      background-color: #E8F0FE;\n",
              "      border: none;\n",
              "      border-radius: 50%;\n",
              "      cursor: pointer;\n",
              "      display: none;\n",
              "      fill: #1967D2;\n",
              "      height: 32px;\n",
              "      padding: 0 0 0 0;\n",
              "      width: 32px;\n",
              "    }\n",
              "\n",
              "    .colab-df-convert:hover {\n",
              "      background-color: #E2EBFA;\n",
              "      box-shadow: 0px 1px 2px rgba(60, 64, 67, 0.3), 0px 1px 3px 1px rgba(60, 64, 67, 0.15);\n",
              "      fill: #174EA6;\n",
              "    }\n",
              "\n",
              "    [theme=dark] .colab-df-convert {\n",
              "      background-color: #3B4455;\n",
              "      fill: #D2E3FC;\n",
              "    }\n",
              "\n",
              "    [theme=dark] .colab-df-convert:hover {\n",
              "      background-color: #434B5C;\n",
              "      box-shadow: 0px 1px 3px 1px rgba(0, 0, 0, 0.15);\n",
              "      filter: drop-shadow(0px 1px 2px rgba(0, 0, 0, 0.3));\n",
              "      fill: #FFFFFF;\n",
              "    }\n",
              "  </style>\n",
              "\n",
              "      <script>\n",
              "        const buttonEl =\n",
              "          document.querySelector('#df-239d074c-e97a-499f-90b9-e6d0f8178d05 button.colab-df-convert');\n",
              "        buttonEl.style.display =\n",
              "          google.colab.kernel.accessAllowed ? 'block' : 'none';\n",
              "\n",
              "        async function convertToInteractive(key) {\n",
              "          const element = document.querySelector('#df-239d074c-e97a-499f-90b9-e6d0f8178d05');\n",
              "          const dataTable =\n",
              "            await google.colab.kernel.invokeFunction('convertToInteractive',\n",
              "                                                     [key], {});\n",
              "          if (!dataTable) return;\n",
              "\n",
              "          const docLinkHtml = 'Like what you see? Visit the ' +\n",
              "            '<a target=\"_blank\" href=https://colab.research.google.com/notebooks/data_table.ipynb>data table notebook</a>'\n",
              "            + ' to learn more about interactive tables.';\n",
              "          element.innerHTML = '';\n",
              "          dataTable['output_type'] = 'display_data';\n",
              "          await google.colab.output.renderOutput(dataTable, element);\n",
              "          const docLink = document.createElement('div');\n",
              "          docLink.innerHTML = docLinkHtml;\n",
              "          element.appendChild(docLink);\n",
              "        }\n",
              "      </script>\n",
              "    </div>\n",
              "  </div>\n",
              "  "
            ]
          },
          "metadata": {},
          "execution_count": 17
        }
      ],
      "source": [
        "X_train = pd.DataFrame(X_train, columns=[cols])\n",
        "X_test = pd.DataFrame(X_test, columns=[cols])\n",
        "\n",
        "X_train.describe()"
      ]
    },
    {
      "cell_type": "code",
      "execution_count": 18,
      "id": "3451524d",
      "metadata": {
        "id": "3451524d",
        "outputId": "9a309c7f-4a1e-4bc8-8a43-0d11ae0614a4",
        "colab": {
          "base_uri": "https://localhost:8080/"
        }
      },
      "outputs": [
        {
          "output_type": "stream",
          "name": "stderr",
          "text": [
            "/usr/local/lib/python3.7/dist-packages/sklearn/utils/validation.py:1692: FutureWarning: Feature names only support names that are all strings. Got feature names with dtypes: ['tuple']. An error will be raised in 1.2.\n",
            "  FutureWarning,\n",
            "/usr/local/lib/python3.7/dist-packages/sklearn/utils/validation.py:993: DataConversionWarning: A column-vector y was passed when a 1d array was expected. Please change the shape of y to (n_samples, ), for example using ravel().\n",
            "  y = column_or_1d(y, warn=True)\n"
          ]
        },
        {
          "output_type": "execute_result",
          "data": {
            "text/plain": [
              "LogisticRegression(random_state=0, solver='liblinear')"
            ]
          },
          "metadata": {},
          "execution_count": 18
        }
      ],
      "source": [
        "\n",
        "\n",
        "# IMPORTAMOS EL METODO LOGISTICREGRESSION\n",
        "from sklearn.linear_model import LogisticRegression\n",
        "\n",
        "\n",
        "# INSTANCIAMOS EL MODELO CON LA MAYORIA DE LOS PARAMETROS POR DEFECTO\n",
        "logreg = LogisticRegression(solver='liblinear', random_state=0)\n",
        "\n",
        "\n",
        "# ENTRENAMOS EL MODELO\n",
        "logreg.fit(X_train, y_train)"
      ]
    },
    {
      "cell_type": "code",
      "execution_count": 19,
      "id": "bd90f1bc",
      "metadata": {
        "id": "bd90f1bc",
        "outputId": "c42e5dc9-a8c4-4eb3-ffbe-e657a4549738",
        "colab": {
          "base_uri": "https://localhost:8080/"
        }
      },
      "outputs": [
        {
          "output_type": "stream",
          "name": "stderr",
          "text": [
            "/usr/local/lib/python3.7/dist-packages/sklearn/utils/validation.py:1692: FutureWarning: Feature names only support names that are all strings. Got feature names with dtypes: ['tuple']. An error will be raised in 1.2.\n",
            "  FutureWarning,\n"
          ]
        },
        {
          "output_type": "execute_result",
          "data": {
            "text/plain": [
              "array([1., 1., 1., 1., 1., 1., 1., 1., 1., 1., 1., 1., 1., 1., 1., 1., 1.,\n",
              "       1., 1., 1., 1., 1., 1., 1., 1., 1., 1., 1., 1., 1., 1., 1., 1., 1.,\n",
              "       1., 1., 1., 1., 1., 1., 1., 1., 1., 1.])"
            ]
          },
          "metadata": {},
          "execution_count": 19
        }
      ],
      "source": [
        "#REALIZAMOS UNA PREDICCION\n",
        "y_pred_test = logreg.predict(X_test)\n",
        "\n",
        "y_pred_test"
      ]
    },
    {
      "cell_type": "code",
      "execution_count": 20,
      "id": "6fc78d6f",
      "metadata": {
        "id": "6fc78d6f",
        "outputId": "e81a0d4c-5729-413f-dbf2-f4d7eaebfe74",
        "colab": {
          "base_uri": "https://localhost:8080/"
        }
      },
      "outputs": [
        {
          "output_type": "stream",
          "name": "stderr",
          "text": [
            "/usr/local/lib/python3.7/dist-packages/sklearn/utils/validation.py:1692: FutureWarning: Feature names only support names that are all strings. Got feature names with dtypes: ['tuple']. An error will be raised in 1.2.\n",
            "  FutureWarning,\n"
          ]
        },
        {
          "output_type": "execute_result",
          "data": {
            "text/plain": [
              "array([0.89423657, 0.89609713, 0.89682185, 0.8971027 , 0.897643  ,\n",
              "       0.89594545, 0.89708323, 0.89621197, 0.89567196, 0.8975227 ,\n",
              "       0.8953711 , 0.86531523, 0.89538387, 0.8960769 , 0.89696236,\n",
              "       0.89623851, 0.89452684, 0.89567196, 0.8943834 , 0.8967007 ,\n",
              "       0.89351915, 0.86614928, 0.89623851, 0.89538766, 0.89708323,\n",
              "       0.89609713, 0.89394882, 0.89566818, 0.86561994, 0.86473378,\n",
              "       0.89778251, 0.86422447, 0.89736345, 0.86546766, 0.89712216,\n",
              "       0.89597523, 0.89622841, 0.89707321, 0.89480358, 0.89666163,\n",
              "       0.89495292, 0.89597523, 0.89707321, 0.89778251])"
            ]
          },
          "metadata": {},
          "execution_count": 20
        }
      ],
      "source": [
        "#EVALAMOS LA PROBABILIDAD DE QUE EL RESULTADO SEA 1\n",
        "logreg.predict_proba(X_test)[:,1]"
      ]
    },
    {
      "cell_type": "code",
      "execution_count": 21,
      "id": "033429ca",
      "metadata": {
        "id": "033429ca",
        "outputId": "78989cba-c372-4412-c0cf-b9e5674632cd",
        "colab": {
          "base_uri": "https://localhost:8080/"
        }
      },
      "outputs": [
        {
          "output_type": "stream",
          "name": "stdout",
          "text": [
            "Model accuracy score: 0.9318\n"
          ]
        }
      ],
      "source": [
        "# INICIAMOS LOS ANALISIS DE METRICAS\n",
        "\n",
        "from sklearn.metrics import accuracy_score\n",
        "\n",
        "print('Model accuracy score: {0:0.4f}'. format(accuracy_score(y_test, y_pred_test)))"
      ]
    },
    {
      "cell_type": "code",
      "execution_count": 22,
      "id": "65db6926",
      "metadata": {
        "id": "65db6926",
        "outputId": "d6e0cdbd-f017-43b9-a014-bf8f19f3ddb4",
        "colab": {
          "base_uri": "https://localhost:8080/"
        }
      },
      "outputs": [
        {
          "output_type": "stream",
          "name": "stderr",
          "text": [
            "/usr/local/lib/python3.7/dist-packages/sklearn/utils/validation.py:1692: FutureWarning: Feature names only support names that are all strings. Got feature names with dtypes: ['tuple']. An error will be raised in 1.2.\n",
            "  FutureWarning,\n"
          ]
        },
        {
          "output_type": "execute_result",
          "data": {
            "text/plain": [
              "array([1., 1., 1., 1., 1., 1., 1., 1., 1., 1., 1., 1., 1., 1., 1., 1., 1.,\n",
              "       1., 1., 1., 1., 1., 1., 1., 1., 1., 1., 1., 1., 1., 1., 1., 1., 1.,\n",
              "       1., 1., 1., 1., 1., 1., 1., 1., 1., 1., 1., 1., 1., 1., 1., 1., 1.,\n",
              "       1., 1., 1., 1., 1., 1., 1., 1., 1., 1., 1., 1., 1., 1., 1., 1., 1.,\n",
              "       1., 1., 1., 1., 1., 1., 1., 1., 1., 1., 1., 1., 1., 1., 1., 1., 1.,\n",
              "       1., 1., 1., 1., 1., 1., 1., 1., 1., 1., 1., 1., 1., 1., 1., 1., 1.,\n",
              "       1., 1., 1., 1., 1., 1., 1., 1., 1., 1., 1., 1., 1., 1., 1., 1., 1.,\n",
              "       1., 1., 1., 1., 1., 1., 1., 1., 1., 1., 1., 1., 1., 1., 1., 1., 1.,\n",
              "       1., 1., 1., 1., 1., 1., 1., 1., 1., 1., 1., 1., 1., 1., 1., 1., 1.,\n",
              "       1., 1., 1., 1., 1., 1., 1., 1., 1., 1., 1., 1., 1., 1., 1., 1., 1.,\n",
              "       1., 1., 1., 1., 1., 1.])"
            ]
          },
          "metadata": {},
          "execution_count": 22
        }
      ],
      "source": [
        "y_pred_train = logreg.predict(X_train)\n",
        "\n",
        "y_pred_train"
      ]
    },
    {
      "cell_type": "code",
      "execution_count": 23,
      "id": "1e9d8b9e",
      "metadata": {
        "id": "1e9d8b9e",
        "outputId": "136f5df8-ef55-446b-bf6d-8fd2e81b30c2",
        "colab": {
          "base_uri": "https://localhost:8080/"
        }
      },
      "outputs": [
        {
          "output_type": "stream",
          "name": "stdout",
          "text": [
            "Training-set accuracy score: 0.9034\n"
          ]
        }
      ],
      "source": [
        "print('Training-set accuracy score: {0:0.4f}'. format(accuracy_score(y_train, y_pred_train)))\n",
        "# SI BIEN VEMOS QUE TIENE UN ACCURACY MUY ALTO VAMOS A COMPROBAR LUEGO CON LA MATRIZ DE CONFUSION QUE EL SISTEMA NO ESTA FUNCIONANDO CORRECTAMENTE"
      ]
    },
    {
      "cell_type": "code",
      "execution_count": 24,
      "id": "bc7ec07e",
      "metadata": {
        "id": "bc7ec07e",
        "outputId": "8c7ef889-ed57-4a5c-a8e2-855296c62f72",
        "colab": {
          "base_uri": "https://localhost:8080/"
        }
      },
      "outputs": [
        {
          "output_type": "stream",
          "name": "stdout",
          "text": [
            "Training set score: 0.9034\n",
            "Test set score: 0.9318\n"
          ]
        },
        {
          "output_type": "stream",
          "name": "stderr",
          "text": [
            "/usr/local/lib/python3.7/dist-packages/sklearn/utils/validation.py:1692: FutureWarning: Feature names only support names that are all strings. Got feature names with dtypes: ['tuple']. An error will be raised in 1.2.\n",
            "  FutureWarning,\n",
            "/usr/local/lib/python3.7/dist-packages/sklearn/utils/validation.py:1692: FutureWarning: Feature names only support names that are all strings. Got feature names with dtypes: ['tuple']. An error will be raised in 1.2.\n",
            "  FutureWarning,\n"
          ]
        }
      ],
      "source": [
        "# print the scores on training and test set\n",
        "\n",
        "print('Training set score: {:.4f}'.format(logreg.score(X_train, y_train)))\n",
        "\n",
        "print('Test set score: {:.4f}'.format(logreg.score(X_test, y_test)))"
      ]
    },
    {
      "cell_type": "code",
      "execution_count": 25,
      "id": "1c95a9b8",
      "metadata": {
        "id": "1c95a9b8",
        "outputId": "6009e7a0-03a2-4b57-a404-530e32615d85",
        "colab": {
          "base_uri": "https://localhost:8080/"
        }
      },
      "outputs": [
        {
          "output_type": "stream",
          "name": "stderr",
          "text": [
            "/usr/local/lib/python3.7/dist-packages/sklearn/utils/validation.py:1692: FutureWarning: Feature names only support names that are all strings. Got feature names with dtypes: ['tuple']. An error will be raised in 1.2.\n",
            "  FutureWarning,\n",
            "/usr/local/lib/python3.7/dist-packages/sklearn/utils/validation.py:993: DataConversionWarning: A column-vector y was passed when a 1d array was expected. Please change the shape of y to (n_samples, ), for example using ravel().\n",
            "  y = column_or_1d(y, warn=True)\n"
          ]
        },
        {
          "output_type": "execute_result",
          "data": {
            "text/plain": [
              "LogisticRegression(C=100, random_state=0, solver='liblinear')"
            ]
          },
          "metadata": {},
          "execution_count": 25
        }
      ],
      "source": [
        "# REPITE EXPERIMENTO CAMBIANDO EL VALOR DE C\n",
        "\n",
        "# fit the Logsitic Regression model with C=100\n",
        "\n",
        "# instantiate the model\n",
        "logreg100 = LogisticRegression(C=100, solver='liblinear', random_state=0)\n",
        "\n",
        "\n",
        "# fit the model\n",
        "logreg100.fit(X_train, y_train)"
      ]
    },
    {
      "cell_type": "code",
      "execution_count": 26,
      "id": "36b81279",
      "metadata": {
        "id": "36b81279",
        "outputId": "159acb1d-2ca5-4f02-8b37-afab703247df",
        "colab": {
          "base_uri": "https://localhost:8080/"
        }
      },
      "outputs": [
        {
          "output_type": "stream",
          "name": "stdout",
          "text": [
            "Training set score: 0.9034\n",
            "Test set score: 0.9318\n"
          ]
        },
        {
          "output_type": "stream",
          "name": "stderr",
          "text": [
            "/usr/local/lib/python3.7/dist-packages/sklearn/utils/validation.py:1692: FutureWarning: Feature names only support names that are all strings. Got feature names with dtypes: ['tuple']. An error will be raised in 1.2.\n",
            "  FutureWarning,\n",
            "/usr/local/lib/python3.7/dist-packages/sklearn/utils/validation.py:1692: FutureWarning: Feature names only support names that are all strings. Got feature names with dtypes: ['tuple']. An error will be raised in 1.2.\n",
            "  FutureWarning,\n"
          ]
        }
      ],
      "source": [
        "\n",
        "print('Training set score: {:.4f}'.format(logreg100.score(X_train, y_train)))\n",
        "\n",
        "print('Test set score: {:.4f}'.format(logreg100.score(X_test, y_test)))"
      ]
    },
    {
      "cell_type": "code",
      "execution_count": 27,
      "id": "bee6fb14",
      "metadata": {
        "id": "bee6fb14",
        "outputId": "81c4dc1a-be84-4198-8754-ddcd6125460b",
        "colab": {
          "base_uri": "https://localhost:8080/"
        }
      },
      "outputs": [
        {
          "output_type": "stream",
          "name": "stderr",
          "text": [
            "/usr/local/lib/python3.7/dist-packages/sklearn/utils/validation.py:1692: FutureWarning: Feature names only support names that are all strings. Got feature names with dtypes: ['tuple']. An error will be raised in 1.2.\n",
            "  FutureWarning,\n",
            "/usr/local/lib/python3.7/dist-packages/sklearn/utils/validation.py:993: DataConversionWarning: A column-vector y was passed when a 1d array was expected. Please change the shape of y to (n_samples, ), for example using ravel().\n",
            "  y = column_or_1d(y, warn=True)\n"
          ]
        },
        {
          "output_type": "execute_result",
          "data": {
            "text/plain": [
              "LogisticRegression(C=0.001, random_state=0, solver='liblinear')"
            ]
          },
          "metadata": {},
          "execution_count": 27
        }
      ],
      "source": [
        "# REPITE EXPERIMENTO CAMBIANDO EL VALOR DE C\n",
        "\n",
        "# fit the Logsitic Regression model with C=100\n",
        "\n",
        "# instantiate the model\n",
        "logreg001 = LogisticRegression(C=0.001, solver='liblinear', random_state=0)\n",
        "\n",
        "\n",
        "# fit the model\n",
        "logreg001.fit(X_train, y_train)"
      ]
    },
    {
      "cell_type": "code",
      "execution_count": 28,
      "id": "0eb7d40b",
      "metadata": {
        "id": "0eb7d40b",
        "outputId": "2f3fc354-820a-4e83-d8ba-cd190a806c3f",
        "colab": {
          "base_uri": "https://localhost:8080/"
        }
      },
      "outputs": [
        {
          "output_type": "stream",
          "name": "stdout",
          "text": [
            "Training set score: 0.9034\n",
            "Test set score: 0.9318\n"
          ]
        },
        {
          "output_type": "stream",
          "name": "stderr",
          "text": [
            "/usr/local/lib/python3.7/dist-packages/sklearn/utils/validation.py:1692: FutureWarning: Feature names only support names that are all strings. Got feature names with dtypes: ['tuple']. An error will be raised in 1.2.\n",
            "  FutureWarning,\n",
            "/usr/local/lib/python3.7/dist-packages/sklearn/utils/validation.py:1692: FutureWarning: Feature names only support names that are all strings. Got feature names with dtypes: ['tuple']. An error will be raised in 1.2.\n",
            "  FutureWarning,\n"
          ]
        }
      ],
      "source": [
        "# print the scores on training and test set\n",
        "\n",
        "print('Training set score: {:.4f}'.format(logreg001.score(X_train, y_train)))\n",
        "\n",
        "print('Test set score: {:.4f}'.format(logreg001.score(X_test, y_test)))"
      ]
    },
    {
      "cell_type": "code",
      "execution_count": 29,
      "id": "838d638a",
      "metadata": {
        "id": "838d638a",
        "outputId": "2cfba574-7c89-48b7-a86d-d566b55b5a3a",
        "colab": {
          "base_uri": "https://localhost:8080/"
        }
      },
      "outputs": [
        {
          "output_type": "stream",
          "name": "stdout",
          "text": [
            "Null accuracy score: 0.9318\n"
          ]
        }
      ],
      "source": [
        "null_accuracy=y_test.value_counts()[1]/(y_test.value_counts()[1]+y_test.value_counts()[0])\n",
        "\n",
        "print('Null accuracy score: {0:0.4f}'. format(null_accuracy))"
      ]
    },
    {
      "cell_type": "code",
      "execution_count": 30,
      "id": "7196004a",
      "metadata": {
        "id": "7196004a",
        "outputId": "c358ff17-9598-49d4-8ce6-60111e69dc96",
        "colab": {
          "base_uri": "https://localhost:8080/"
        }
      },
      "outputs": [
        {
          "output_type": "stream",
          "name": "stdout",
          "text": [
            "Confusion matrix\n",
            "\n",
            " [[ 0  3]\n",
            " [ 0 41]]\n",
            "\n",
            "True Positives(TP) =  0\n",
            "\n",
            "True Negatives(TN) =  41\n",
            "\n",
            "False Positives(FP) =  3\n",
            "\n",
            "False Negatives(FN) =  0\n"
          ]
        }
      ],
      "source": [
        "# MATRIZ DE CONFUSION\n",
        "\n",
        "# Print the Confusion Matrix and slice it into four pieces\n",
        "\n",
        "from sklearn.metrics import confusion_matrix\n",
        "\n",
        "cm = confusion_matrix(y_test, y_pred_test)\n",
        "\n",
        "print('Confusion matrix\\n\\n', cm)\n",
        "\n",
        "print('\\nTrue Positives(TP) = ', cm[0,0])\n",
        "\n",
        "print('\\nTrue Negatives(TN) = ', cm[1,1])\n",
        "\n",
        "print('\\nFalse Positives(FP) = ', cm[0,1])\n",
        "\n",
        "print('\\nFalse Negatives(FN) = ', cm[1,0])"
      ]
    },
    {
      "cell_type": "code",
      "execution_count": 31,
      "id": "42d07ed4",
      "metadata": {
        "id": "42d07ed4",
        "outputId": "87ee9ad3-7739-41b5-cf73-5a9d7cd9a411",
        "colab": {
          "base_uri": "https://localhost:8080/",
          "height": 282
        }
      },
      "outputs": [
        {
          "output_type": "execute_result",
          "data": {
            "text/plain": [
              "<matplotlib.axes._subplots.AxesSubplot at 0x7f14a0270310>"
            ]
          },
          "metadata": {},
          "execution_count": 31
        },
        {
          "output_type": "display_data",
          "data": {
            "text/plain": [
              "<Figure size 432x288 with 2 Axes>"
            ],
            "image/png": "[encoded data removed]"
          },
          "metadata": {
            "needs_background": "light"
          }
        }
      ],
      "source": [
        "# COMO SE PUEDE VER EL 100% DE LOS CASOS DE PRUEBA NEGATIVOS DIERON FALSO POSITIVO, POR LO CUAL EL MODELO NO ESTA DETECTANDO CORRECTAMENTE LOS DATOS\n",
        "cm_matrix = pd.DataFrame(data=cm, columns=['Actual Positive:1', 'Actual Negative:0'], \n",
        "                                 index=['Predict Positive:1', 'Predict Negative:0'])\n",
        "\n",
        "sns.heatmap(cm_matrix, annot=True, fmt='d', cmap='YlGnBu')"
      ]
    },
    {
      "cell_type": "code",
      "execution_count": 32,
      "id": "2a5f700d",
      "metadata": {
        "id": "2a5f700d",
        "outputId": "4bedfb00-4e39-408d-e43c-3f10e9b9d37c",
        "colab": {
          "base_uri": "https://localhost:8080/"
        }
      },
      "outputs": [
        {
          "output_type": "stream",
          "name": "stdout",
          "text": [
            "              precision    recall  f1-score   support\n",
            "\n",
            "         0.0       0.00      0.00      0.00         3\n",
            "         1.0       0.93      1.00      0.96        41\n",
            "\n",
            "    accuracy                           0.93        44\n",
            "   macro avg       0.47      0.50      0.48        44\n",
            "weighted avg       0.87      0.93      0.90        44\n",
            "\n"
          ]
        },
        {
          "output_type": "stream",
          "name": "stderr",
          "text": [
            "/usr/local/lib/python3.7/dist-packages/sklearn/metrics/_classification.py:1318: UndefinedMetricWarning: Precision and F-score are ill-defined and being set to 0.0 in labels with no predicted samples. Use `zero_division` parameter to control this behavior.\n",
            "  _warn_prf(average, modifier, msg_start, len(result))\n",
            "/usr/local/lib/python3.7/dist-packages/sklearn/metrics/_classification.py:1318: UndefinedMetricWarning: Precision and F-score are ill-defined and being set to 0.0 in labels with no predicted samples. Use `zero_division` parameter to control this behavior.\n",
            "  _warn_prf(average, modifier, msg_start, len(result))\n",
            "/usr/local/lib/python3.7/dist-packages/sklearn/metrics/_classification.py:1318: UndefinedMetricWarning: Precision and F-score are ill-defined and being set to 0.0 in labels with no predicted samples. Use `zero_division` parameter to control this behavior.\n",
            "  _warn_prf(average, modifier, msg_start, len(result))\n"
          ]
        }
      ],
      "source": [
        "from sklearn.metrics import classification_report\n",
        "\n",
        "print(classification_report(y_test, y_pred_test))"
      ]
    },
    {
      "cell_type": "code",
      "execution_count": 33,
      "id": "93fdb47d",
      "metadata": {
        "id": "93fdb47d"
      },
      "outputs": [],
      "source": [
        "TP = cm[0,0]\n",
        "TN = cm[1,1]\n",
        "FP = cm[0,1]\n",
        "FN = cm[1,0]"
      ]
    },
    {
      "cell_type": "code",
      "execution_count": 34,
      "id": "ac409cc8",
      "metadata": {
        "id": "ac409cc8",
        "outputId": "6648c787-7520-45ea-eb45-7da9743d64e1",
        "colab": {
          "base_uri": "https://localhost:8080/"
        }
      },
      "outputs": [
        {
          "output_type": "stream",
          "name": "stdout",
          "text": [
            "Classification accuracy : 0.9318\n"
          ]
        }
      ],
      "source": [
        "\n",
        "classification_accuracy = (TP + TN) / float(TP + TN + FP + FN)\n",
        "\n",
        "print('Classification accuracy : {0:0.4f}'.format(classification_accuracy))"
      ]
    },
    {
      "cell_type": "code",
      "execution_count": 35,
      "id": "d2fd1da9",
      "metadata": {
        "id": "d2fd1da9",
        "outputId": "abb39f7e-98af-4adf-a0dc-2e88a4afa4f3",
        "colab": {
          "base_uri": "https://localhost:8080/"
        }
      },
      "outputs": [
        {
          "output_type": "stream",
          "name": "stdout",
          "text": [
            "Classification error : 0.0682\n"
          ]
        }
      ],
      "source": [
        "classification_error = (FP + FN) / float(TP + TN + FP + FN)\n",
        "\n",
        "print('Classification error : {0:0.4f}'.format(classification_error))"
      ]
    },
    {
      "cell_type": "code",
      "execution_count": 36,
      "id": "4ca66eb8",
      "metadata": {
        "id": "4ca66eb8"
      },
      "outputs": [],
      "source": [
        ""
      ]
    },
    {
      "cell_type": "code",
      "source": [
        ""
      ],
      "metadata": {
        "id": "IAXvG_ju2uDy"
      },
      "id": "IAXvG_ju2uDy",
      "execution_count": null,
      "outputs": []
    }
  ],
  "metadata": {
    "colab": {
      "name": "Regresion_logistica_desbalanceado.ipynb",
      "provenance": [],
      "include_colab_link": true
    },
    "kernelspec": {
      "display_name": "Python 3 (ipykernel)",
      "language": "python",
      "name": "python3"
    },
    "language_info": {
      "codemirror_mode": {
        "name": "ipython",
        "version": 3
      },
      "file_extension": ".py",
      "mimetype": "text/x-python",
      "name": "python",
      "nbconvert_exporter": "python",
      "pygments_lexer": "ipython3",
      "version": "3.9.7"
    }
  },
  "nbformat": 4,
  "nbformat_minor": 5
}