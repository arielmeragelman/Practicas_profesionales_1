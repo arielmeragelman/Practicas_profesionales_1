{
  "cells": [
    {
      "cell_type": "markdown",
      "metadata": {
        "id": "view-in-github",
        "colab_type": "text"
      },
      "source": [
        "<a href=\"https://colab.research.google.com/github/arielmeragelman/Practicas_profesionales_1/blob/main/GENERAR_MATRICES_TP.ipynb\" target=\"_parent\"><img src=\"https://colab.research.google.com/assets/colab-badge.svg\" alt=\"Open In Colab\"/></a>"
      ]
    },
    {
      "cell_type": "code",
      "execution_count": 43,
      "id": "e0027f4e",
      "metadata": {
        "id": "e0027f4e"
      },
      "outputs": [],
      "source": [
        "from numpy.random import seed\n",
        "import numpy as np\n",
        "from numpy.random import normal,uniform\n",
        "import pandas as pd\n",
        "import random\n",
        "\n",
        "\n",
        "#make this example reproducible\n",
        "seed(1)\n",
        "\n",
        "M1=[]\n",
        "M2=[]\n",
        "\n",
        "\n",
        "parametro_controlado=100\n",
        "\n",
        "#generate sample of 200 values that follow a normal distribution \n",
        "a = normal(loc=0, scale=1, size=20)+parametro_controlado\n",
        "b = normal(loc=0, scale=1, size=200)+parametro_controlado\n",
        "\n",
        "c = np.random.uniform(size=20) +parametro_controlado\n",
        "d = np.random.uniform(size=200)+parametro_controlado\n",
        "\n",
        "\n",
        "# GENERAMOS VALORES SESGADOS\n",
        "\n",
        "\n",
        "b2=[]\n",
        "for i in b:\n",
        "    \n",
        "    \n",
        "    if i < (parametro_controlado*0.1) or i > (parametro_controlado) :\n",
        "        b2.append(random.uniform(parametro_controlado-5, parametro_controlado))\n",
        "    else:\n",
        "        b2.append(i)\n",
        "\n",
        "a2=[]\n",
        "for i in a:\n",
        "    \n",
        "    if i < (parametro_controlado*0.1) or i > (parametro_controlado) :\n",
        "        a2.append(random.uniform(parametro_controlado-5, parametro_controlado))\n",
        "    else:\n",
        "        a2.append(i)\n",
        "\n",
        "\n",
        "\n",
        "a = pd.DataFrame (a, columns = ['normal'])\n",
        "c = pd.DataFrame (c, columns = ['uniforme'])\n",
        "a2 = pd.DataFrame (a2, columns = ['Sesgada'])\n",
        "\n",
        "print(len(b))\n",
        "b = pd.DataFrame (b, columns = ['normal'])\n",
        "d = pd.DataFrame (d, columns = ['uniforme'])\n",
        "b2 = pd.DataFrame (b2, columns = ['Sesgada'])\n",
        "\n",
        "\n",
        "\n",
        "\n",
        "frames = [a, c, a2]\n",
        "frames2 = [b, d, b2]\n",
        "\n",
        "\n",
        "matriz1= pd.concat(frames,axis=1)\n",
        "\n",
        "matriz2= pd.concat(frames2,axis=1)"
      ]
    },
    {
      "cell_type": "code",
      "source": [
        ""
      ],
      "metadata": {
        "id": "A0RBHeq8tAtW"
      },
      "id": "A0RBHeq8tAtW",
      "execution_count": null,
      "outputs": []
    },
    {
      "cell_type": "code",
      "source": [
        ""
      ],
      "metadata": {
        "id": "BoWY36rumvWN"
      },
      "id": "BoWY36rumvWN",
      "execution_count": null,
      "outputs": []
    },
    {
      "cell_type": "code",
      "execution_count": 115,
      "id": "7e3c4534",
      "metadata": {
        "id": "7e3c4534"
      },
      "outputs": [],
      "source": [
        ""
      ]
    },
    {
      "cell_type": "code",
      "execution_count": 117,
      "id": "d2becb18",
      "metadata": {
        "colab": {
          "base_uri": "https://localhost:8080/",
          "height": 337
        },
        "id": "d2becb18",
        "outputId": "2955480d-475c-41f3-97d2-973c072a08ac"
      },
      "outputs": [
        {
          "output_type": "stream",
          "name": "stderr",
          "text": [
            "/usr/local/lib/python3.7/dist-packages/seaborn/distributions.py:2619: FutureWarning: `distplot` is a deprecated function and will be removed in a future version. Please adapt your code to use either `displot` (a figure-level function with similar flexibility) or `histplot` (an axes-level function for histograms).\n",
            "  warnings.warn(msg, FutureWarning)\n"
          ]
        },
        {
          "output_type": "execute_result",
          "data": {
            "text/plain": [
              "<matplotlib.axes._subplots.AxesSubplot at 0x7f59d9206510>"
            ]
          },
          "metadata": {},
          "execution_count": 117
        },
        {
          "output_type": "display_data",
          "data": {
            "text/plain": [
              "<Figure size 432x288 with 1 Axes>"
            ],
            "image/png": "[encoded data removed]"
          },
          "metadata": {
            "needs_background": "light"
          }
        }
      ],
      "source": [
        "\n",
        "import matplotlib.pyplot as plt\n",
        "import seaborn as sns\n",
        "\n",
        "# matplotlib histogram\n",
        "\n",
        "sns.distplot(b2, hist=True, kde=False, \n",
        "             bins=int(len(b)/5), color = 'blue',\n",
        "             hist_kws={'edgecolor':'black'})\n",
        "\n",
        "\n",
        "sns.distplot(a2, hist=True, kde=False, \n",
        "             bins=int(10), color = 'red',\n",
        "             hist_kws={'edgecolor':'black'})"
      ]
    },
    {
      "cell_type": "code",
      "execution_count": 118,
      "id": "e93a6dff",
      "metadata": {
        "colab": {
          "base_uri": "https://localhost:8080/"
        },
        "id": "e93a6dff",
        "outputId": "fecf8d27-638f-464c-8113-ef589796d7ec"
      },
      "outputs": [
        {
          "output_type": "stream",
          "name": "stdout",
          "text": [
            "200\n"
          ]
        }
      ],
      "source": [
        "\n"
      ]
    },
    {
      "cell_type": "code",
      "execution_count": 118,
      "id": "a587f791",
      "metadata": {
        "id": "a587f791"
      },
      "outputs": [],
      "source": [
        "\n",
        "\n"
      ]
    },
    {
      "cell_type": "code",
      "execution_count": null,
      "id": "a62681e4",
      "metadata": {
        "id": "a62681e4"
      },
      "outputs": [],
      "source": [
        ""
      ]
    },
    {
      "cell_type": "code",
      "execution_count": 119,
      "id": "b1592537",
      "metadata": {
        "colab": {
          "base_uri": "https://localhost:8080/",
          "height": 351
        },
        "id": "b1592537",
        "outputId": "8dd78f74-a2d4-4280-9c0f-8d2cf24a7cd0"
      },
      "outputs": [
        {
          "output_type": "stream",
          "name": "stderr",
          "text": [
            "/usr/local/lib/python3.7/dist-packages/seaborn/distributions.py:2619: FutureWarning: `distplot` is a deprecated function and will be removed in a future version. Please adapt your code to use either `displot` (a figure-level function with similar flexibility) or `histplot` (an axes-level function for histograms).\n",
            "  warnings.warn(msg, FutureWarning)\n"
          ]
        },
        {
          "output_type": "execute_result",
          "data": {
            "text/plain": [
              "<matplotlib.axes._subplots.AxesSubplot at 0x7f59d8fc5550>"
            ]
          },
          "metadata": {},
          "execution_count": 119
        },
        {
          "output_type": "display_data",
          "data": {
            "text/plain": [
              "<Figure size 432x288 with 1 Axes>"
            ],
            "image/png": "[encoded data removed]"
          },
          "metadata": {
            "needs_background": "light"
          }
        }
      ],
      "source": [
        "\n",
        "sns.distplot(matriz2['normal'], hist=True, kde=False, \n",
        "             bins=int(20), color = 'red',\n",
        "             hist_kws={'edgecolor':'black'})\n",
        "\n"
      ]
    },
    {
      "cell_type": "code",
      "source": [
        "\n",
        "sns.distplot(matriz2['uniforme'], hist=True, kde=False, \n",
        "             bins=int(20), color = 'yellow',\n",
        "             hist_kws={'edgecolor':'black'})\n",
        "\n"
      ],
      "metadata": {
        "colab": {
          "base_uri": "https://localhost:8080/",
          "height": 351
        },
        "id": "Y_Wrd32uhx-a",
        "outputId": "7cf6fe0f-3c27-4797-a89b-be7d28053afd"
      },
      "id": "Y_Wrd32uhx-a",
      "execution_count": 120,
      "outputs": [
        {
          "output_type": "stream",
          "name": "stderr",
          "text": [
            "/usr/local/lib/python3.7/dist-packages/seaborn/distributions.py:2619: FutureWarning: `distplot` is a deprecated function and will be removed in a future version. Please adapt your code to use either `displot` (a figure-level function with similar flexibility) or `histplot` (an axes-level function for histograms).\n",
            "  warnings.warn(msg, FutureWarning)\n"
          ]
        },
        {
          "output_type": "execute_result",
          "data": {
            "text/plain": [
              "<matplotlib.axes._subplots.AxesSubplot at 0x7f59d8f8af50>"
            ]
          },
          "metadata": {},
          "execution_count": 120
        },
        {
          "output_type": "display_data",
          "data": {
            "text/plain": [
              "<Figure size 432x288 with 1 Axes>"
            ],
            "image/png": "[encoded data removed]"
          },
          "metadata": {
            "needs_background": "light"
          }
        }
      ]
    },
    {
      "cell_type": "code",
      "source": [
        "\n",
        "sns.distplot(matriz2['Sesgada'], hist=True, kde=False, \n",
        "             bins=int(20), color = 'yellow',\n",
        "             hist_kws={'edgecolor':'black'})\n"
      ],
      "metadata": {
        "colab": {
          "base_uri": "https://localhost:8080/",
          "height": 351
        },
        "id": "P3ZCpIlhlA2G",
        "outputId": "15713445-bd27-49aa-ba8d-d273b4d81e33"
      },
      "id": "P3ZCpIlhlA2G",
      "execution_count": 121,
      "outputs": [
        {
          "output_type": "stream",
          "name": "stderr",
          "text": [
            "/usr/local/lib/python3.7/dist-packages/seaborn/distributions.py:2619: FutureWarning: `distplot` is a deprecated function and will be removed in a future version. Please adapt your code to use either `displot` (a figure-level function with similar flexibility) or `histplot` (an axes-level function for histograms).\n",
            "  warnings.warn(msg, FutureWarning)\n"
          ]
        },
        {
          "output_type": "execute_result",
          "data": {
            "text/plain": [
              "<matplotlib.axes._subplots.AxesSubplot at 0x7f59d8f065d0>"
            ]
          },
          "metadata": {},
          "execution_count": 121
        },
        {
          "output_type": "display_data",
          "data": {
            "text/plain": [
              "<Figure size 432x288 with 1 Axes>"
            ],
            "image/png": "[encoded data removed]"
          },
          "metadata": {
            "needs_background": "light"
          }
        }
      ]
    },
    {
      "cell_type": "code",
      "source": [
        ""
      ],
      "metadata": {
        "id": "cwdMOmMPlF_0"
      },
      "id": "cwdMOmMPlF_0",
      "execution_count": null,
      "outputs": []
    }
  ],
  "metadata": {
    "kernelspec": {
      "display_name": "Python 3 (ipykernel)",
      "language": "python",
      "name": "python3"
    },
    "language_info": {
      "codemirror_mode": {
        "name": "ipython",
        "version": 3
      },
      "file_extension": ".py",
      "mimetype": "text/x-python",
      "name": "python",
      "nbconvert_exporter": "python",
      "pygments_lexer": "ipython3",
      "version": "3.9.7"
    },
    "colab": {
      "name": "GENERAR_MATRICES_TP.ipynb",
      "provenance": [],
      "include_colab_link": true
    }
  },
  "nbformat": 4,
  "nbformat_minor": 5
}