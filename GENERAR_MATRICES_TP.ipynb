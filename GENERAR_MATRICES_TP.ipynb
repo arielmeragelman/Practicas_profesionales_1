{
  "cells": [
    {
      "cell_type": "markdown",
      "metadata": {
        "id": "view-in-github",
        "colab_type": "text"
      },
      "source": [
        "<a href=\"https://colab.research.google.com/github/arielmeragelman/Practicas_profesionales_1/blob/main/GENERAR_MATRICES_TP.ipynb\" target=\"_parent\"><img src=\"https://colab.research.google.com/assets/colab-badge.svg\" alt=\"Open In Colab\"/></a>"
      ]
    },
    {
      "cell_type": "code",
      "execution_count": null,
      "id": "e0027f4e",
      "metadata": {
        "id": "e0027f4e"
      },
      "outputs": [],
      "source": [
        "from numpy.random import seed\n",
        "import numpy as np\n",
        "from numpy.random import normal,uniform\n",
        "import pandas as pd\n",
        "import random\n",
        "\n",
        "\n",
        "#make this example reproducible\n",
        "seed(1)\n",
        "\n",
        "M1=[]\n",
        "M2=[]\n",
        "\n",
        "\n",
        "\n",
        "#generate sample of 200 values that follow a normal distribution \n",
        "a = normal(loc=0, scale=1, size=20)\n",
        "b = normal(loc=0, scale=1, size=200)\n",
        "\n",
        "c = np.random.uniform(size=20) \n",
        "d = np.random.uniform(size=200)\n",
        "\n"
      ]
    },
    {
      "cell_type": "code",
      "execution_count": null,
      "id": "7e3c4534",
      "metadata": {
        "id": "7e3c4534"
      },
      "outputs": [],
      "source": [
        "# GENERAMOS VALORES SESGADOS\n",
        "\n",
        "\n",
        "b2=[]\n",
        "for i in b:\n",
        "    \n",
        "    if i < 0.3:\n",
        "        b2.append(random.uniform(-0.2, 1.3))\n",
        "    else:\n",
        "        b2.append(i)\n",
        "\n",
        "a2=[]\n",
        "for i in a:\n",
        "    \n",
        "    if i < 0.3:\n",
        "        a2.append(random.uniform(-0.3, 0.5))\n",
        "    else:\n",
        "        a2.append(i)\n",
        "        \n",
        "        \n",
        "    "
      ]
    },
    {
      "cell_type": "code",
      "execution_count": null,
      "id": "d2becb18",
      "metadata": {
        "id": "d2becb18",
        "outputId": "b1a3168b-63b2-4fef-a3f1-c2f068559f6e"
      },
      "outputs": [
        {
          "name": "stderr",
          "output_type": "stream",
          "text": [
            "C:\\Users\\Ususario\\anaconda3\\lib\\site-packages\\seaborn\\distributions.py:2619: FutureWarning: `distplot` is a deprecated function and will be removed in a future version. Please adapt your code to use either `displot` (a figure-level function with similar flexibility) or `histplot` (an axes-level function for histograms).\n",
            "  warnings.warn(msg, FutureWarning)\n"
          ]
        },
        {
          "data": {
            "text/plain": [
              "<AxesSubplot:>"
            ]
          },
          "execution_count": 77,
          "metadata": {},
          "output_type": "execute_result"
        },
        {
          "data": {
            "image/png": "[encoded data removed]",
            "text/plain": [
              "<Figure size 432x288 with 1 Axes>"
            ]
          },
          "metadata": {
            "needs_background": "light"
          },
          "output_type": "display_data"
        }
      ],
      "source": [
        "\n",
        "import matplotlib.pyplot as plt\n",
        "import seaborn as sns\n",
        "\n",
        "# matplotlib histogram\n",
        "\n",
        "sns.distplot(b2, hist=True, kde=False, \n",
        "             bins=int(len(b)/5), color = 'blue',\n",
        "             hist_kws={'edgecolor':'black'})\n",
        "\n",
        "\n",
        "sns.distplot(a2, hist=True, kde=False, \n",
        "             bins=int(20), color = 'red',\n",
        "             hist_kws={'edgecolor':'black'})"
      ]
    },
    {
      "cell_type": "code",
      "execution_count": null,
      "id": "e93a6dff",
      "metadata": {
        "id": "e93a6dff",
        "outputId": "dbc49845-7d97-47b2-f80c-bd9cc25e5738"
      },
      "outputs": [
        {
          "name": "stdout",
          "output_type": "stream",
          "text": [
            "200\n"
          ]
        }
      ],
      "source": [
        "\n",
        "\n",
        "a = pd.DataFrame (a, columns = ['normal'])\n",
        "c = pd.DataFrame (c, columns = ['uniforme'])\n",
        "a2 = pd.DataFrame (a2, columns = ['Sesgada'])\n",
        "\n",
        "print(len(b))\n",
        "b = pd.DataFrame (b, columns = ['normal'])\n",
        "d = pd.DataFrame (d, columns = ['uniforme'])\n",
        "b2 = pd.DataFrame (b2, columns = ['Sesgada'])\n",
        "\n",
        "\n",
        "\n",
        "\n",
        "frames = [a, c, a2]\n",
        "frames2 = [b, d, b2]\n",
        "\n",
        "\n",
        "matriz1= pd.concat(frames,axis=1)\n",
        "\n",
        "matriz2= pd.concat(frames2,axis=1)"
      ]
    },
    {
      "cell_type": "code",
      "execution_count": null,
      "id": "a587f791",
      "metadata": {
        "id": "a587f791",
        "outputId": "4ce8bb56-547d-4e7e-d044-7f3709a57f51"
      },
      "outputs": [
        {
          "name": "stdout",
          "output_type": "stream",
          "text": [
            "      normal  uniforme   Sesgada\n",
            "0   1.624345  0.572489  1.624345\n",
            "1  -0.611756  0.733143  0.321284\n",
            "2  -0.528172  0.519012 -0.053316\n",
            "3  -1.072969  0.770884  0.317719\n",
            "4   0.865408  0.568858  0.865408\n",
            "5  -2.301539  0.465710  0.488093\n",
            "6   1.744812  0.342689  1.744812\n",
            "7  -0.761207  0.068209  0.106152\n",
            "8   0.319039  0.377924  0.319039\n",
            "9  -0.249370  0.079626  0.187777\n",
            "10  1.462108  0.982817  1.462108\n",
            "11 -2.060141  0.181613  0.313361\n",
            "12 -0.322417  0.811859  0.117618\n",
            "13 -0.384054  0.874962  0.344264\n",
            "14  1.133769  0.688413  1.133769\n",
            "15 -1.099891  0.569494  0.193933\n",
            "16 -0.172428  0.160971  0.022396\n",
            "17 -0.877858  0.466880  0.167040\n",
            "18  0.042214  0.345172  0.404886\n",
            "19  0.582815  0.225040  0.582815\n",
            "       normal  uniforme   Sesgada\n",
            "0   -1.100619  0.592512  1.023318\n",
            "1    1.144724  0.312270  1.144724\n",
            "2    0.901591  0.916306  0.901591\n",
            "3    0.502494  0.909636  0.502494\n",
            "4    0.900856  0.257118  0.900856\n",
            "..        ...       ...       ...\n",
            "195  0.875839  0.174766  0.875839\n",
            "196  0.623362  0.607094  0.623362\n",
            "197 -0.434957  0.413586  0.378750\n",
            "198  1.407540  0.816352  1.407540\n",
            "199  0.129102  0.185130  0.267853\n",
            "\n",
            "[200 rows x 3 columns]\n"
          ]
        }
      ],
      "source": [
        "print(matriz1)\n",
        "\n",
        "print(matriz2)"
      ]
    },
    {
      "cell_type": "code",
      "execution_count": null,
      "id": "a62681e4",
      "metadata": {
        "id": "a62681e4"
      },
      "outputs": [],
      "source": [
        ""
      ]
    },
    {
      "cell_type": "code",
      "execution_count": null,
      "id": "b1592537",
      "metadata": {
        "id": "b1592537"
      },
      "outputs": [],
      "source": [
        ""
      ]
    }
  ],
  "metadata": {
    "kernelspec": {
      "display_name": "Python 3 (ipykernel)",
      "language": "python",
      "name": "python3"
    },
    "language_info": {
      "codemirror_mode": {
        "name": "ipython",
        "version": 3
      },
      "file_extension": ".py",
      "mimetype": "text/x-python",
      "name": "python",
      "nbconvert_exporter": "python",
      "pygments_lexer": "ipython3",
      "version": "3.9.7"
    },
    "colab": {
      "name": "GENERAR_MATRICES_TP.ipynb",
      "provenance": [],
      "include_colab_link": true
    }
  },
  "nbformat": 4,
  "nbformat_minor": 5
}