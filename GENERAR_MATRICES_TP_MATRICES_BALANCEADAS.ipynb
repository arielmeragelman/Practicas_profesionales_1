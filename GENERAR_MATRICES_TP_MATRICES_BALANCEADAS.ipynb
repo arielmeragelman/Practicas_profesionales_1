{
  "cells": [
    {
      "cell_type": "markdown",
      "metadata": {
        "id": "view-in-github",
        "colab_type": "text"
      },
      "source": [
        "<a href=\"https://colab.research.google.com/github/arielmeragelman/Practicas_profesionales_1/blob/main/GENERAR_MATRICES_TP_MATRICES_BALANCEADAS.ipynb\" target=\"_parent\"><img src=\"https://colab.research.google.com/assets/colab-badge.svg\" alt=\"Open In Colab\"/></a>"
      ]
    },
    {
      "cell_type": "code",
      "execution_count": 1,
      "id": "e0027f4e",
      "metadata": {
        "id": "e0027f4e"
      },
      "outputs": [],
      "source": [
        "from numpy.random import seed\n",
        "import numpy as np\n",
        "from numpy.random import normal,uniform\n",
        "import pandas as pd\n",
        "import random\n",
        "\n",
        "\n",
        "\n",
        "seed(1)\n",
        "# CONSTANTE PARA VARIAR LOS VALORES DE LA MATRIZ\n",
        "parametro_controlado=100\n",
        "\n",
        "#Genero valores distribuidos normalmente , en el caso de una de las matrices la media rondara por parametro_controlado\n",
        "# y la otra matriz la media rondara parametro_controlado/2\n",
        "\n",
        "a = normal(loc=0, scale=1, size=200)+(parametro_controlado/2)\n",
        "b = normal(loc=0, scale=1, size=200)+parametro_controlado\n",
        "\n",
        "#Genero valores distribuidos uniformemente , en el caso de una de las matrices la media rondara por parametro_controlado\n",
        "# y la otra matriz la media rondara parametro_controlado/2\n",
        "\n",
        "c = np.random.uniform(size=200) +(parametro_controlado/2)\n",
        "d = np.random.uniform(size=200)+parametro_controlado\n",
        "\n",
        "#Generamos las matrices de identificacion (y label) donde pondremos la matriz con media parametro_controlado/2 como 0 y la otra como 1\n",
        "\n",
        "label_M1=np.ones((1,200))\n",
        "label_M2=np.zeros((1,200))\n",
        "\n",
        "\n",
        "\n",
        "# GENERAMOS VALORES SESGADOS\n",
        "\n",
        "\n",
        "b2=[]\n",
        "for i in b:\n",
        "    \n",
        "    \n",
        "    if i < (parametro_controlado*0.1) or i > (parametro_controlado) :\n",
        "        b2.append(random.uniform(parametro_controlado-5, parametro_controlado))\n",
        "    else:\n",
        "        b2.append(i)\n",
        "\n",
        "a2=[]\n",
        "for i in a:\n",
        "    \n",
        "    if i < ((parametro_controlado/2)*0.50) or i > (parametro_controlado/2) :\n",
        "        a2.append(random.uniform( (parametro_controlado/2)*0.5 , (parametro_controlado/2)*0.98))\n",
        "    else:\n",
        "        a2.append(i)\n",
        "\n",
        "\n",
        "# Convertimos los objetos numpy y la lista en dataframe\n",
        "a = pd.DataFrame (a, columns = ['normal'])\n",
        "c = pd.DataFrame (c, columns = ['uniforme'])\n",
        "a2 = pd.DataFrame (a2, columns = ['Sesgada'])\n",
        "\n",
        "\n",
        "# Convertimos los objetos numpy y la lista en dataframe\n",
        "\n",
        "b = pd.DataFrame (b, columns = ['normal'])\n",
        "d = pd.DataFrame (d, columns = ['uniforme'])\n",
        "b2 = pd.DataFrame (b2, columns = ['Sesgada'])\n",
        "\n",
        "\n",
        "\n",
        "#Generamos una lista de columnas\n",
        "frames = [a, c, a2]\n",
        "frames2 = [b, d, b2]\n",
        "\n",
        "\n",
        "#Concatenamos las columnas para generar un dataframe con 3 columnas\n",
        "matriz1= pd.concat(frames,axis=1)\n",
        "\n",
        "matriz2= pd.concat(frames2,axis=1)"
      ]
    },
    {
      "cell_type": "code",
      "execution_count": null,
      "id": "d2becb18",
      "metadata": {
        "id": "d2becb18"
      },
      "outputs": [],
      "source": [
        ""
      ]
    },
    {
      "cell_type": "code",
      "execution_count": 2,
      "id": "b1592537",
      "metadata": {
        "colab": {
          "base_uri": "https://localhost:8080/",
          "height": 678
        },
        "id": "b1592537",
        "outputId": "2c9d0b75-395e-4b9d-8513-9b404953c4e9"
      },
      "outputs": [
        {
          "output_type": "stream",
          "name": "stderr",
          "text": [
            "/usr/local/lib/python3.7/dist-packages/seaborn/distributions.py:2619: FutureWarning: `distplot` is a deprecated function and will be removed in a future version. Please adapt your code to use either `displot` (a figure-level function with similar flexibility) or `histplot` (an axes-level function for histograms).\n",
            "  warnings.warn(msg, FutureWarning)\n"
          ]
        },
        {
          "output_type": "execute_result",
          "data": {
            "text/plain": [
              "<matplotlib.axes._subplots.AxesSubplot at 0x7f3289ab47d0>"
            ]
          },
          "metadata": {},
          "execution_count": 2
        },
        {
          "output_type": "display_data",
          "data": {
            "text/plain": [
              "<Figure size 1080x720 with 3 Axes>"
            ],
            "image/png": "[encoded data removed]"
          },
          "metadata": {
            "needs_background": "light"
          }
        }
      ],
      "source": [
        "# CONTROLAMOS GRAFICAMENTE LAS MATRICES OBTENIDAS\n",
        "\n",
        "\n",
        "import matplotlib.pyplot as plt\n",
        "import seaborn as sns\n",
        "\n",
        "\n",
        "plt.figure(figsize=(15,10))\n",
        "plt.subplot(3, 2, 1)\n",
        "\n",
        "sns.distplot(matriz2['normal'], hist=True, kde=False, \n",
        "             bins=int(20), color = 'red',\n",
        "             hist_kws={'edgecolor':'black'})\n",
        "\n",
        "plt.subplot(2, 2, 2)\n",
        "\n",
        "sns.distplot(matriz2['uniforme'], hist=True, kde=False, \n",
        "             bins=int(20), color = 'yellow',\n",
        "             hist_kws={'edgecolor':'black'})\n",
        "\n",
        "plt.subplot(2, 2, 3)\n",
        "\n",
        "\n",
        "sns.distplot(matriz2['Sesgada'], hist=True, kde=False, \n",
        "             bins=int(20), color = 'yellow',\n",
        "             hist_kws={'edgecolor':'black'})\n"
      ]
    },
    {
      "cell_type": "code",
      "execution_count": 3,
      "id": "cwdMOmMPlF_0",
      "metadata": {
        "colab": {
          "base_uri": "https://localhost:8080/",
          "height": 678
        },
        "id": "cwdMOmMPlF_0",
        "outputId": "fd546fa6-00c0-4ddf-8b7a-478143b4bba1"
      },
      "outputs": [
        {
          "output_type": "stream",
          "name": "stderr",
          "text": [
            "/usr/local/lib/python3.7/dist-packages/seaborn/distributions.py:2619: FutureWarning: `distplot` is a deprecated function and will be removed in a future version. Please adapt your code to use either `displot` (a figure-level function with similar flexibility) or `histplot` (an axes-level function for histograms).\n",
            "  warnings.warn(msg, FutureWarning)\n"
          ]
        },
        {
          "output_type": "execute_result",
          "data": {
            "text/plain": [
              "<matplotlib.axes._subplots.AxesSubplot at 0x7f32894952d0>"
            ]
          },
          "metadata": {},
          "execution_count": 3
        },
        {
          "output_type": "display_data",
          "data": {
            "text/plain": [
              "<Figure size 1080x720 with 3 Axes>"
            ],
            "image/png": "[encoded data removed]"
          },
          "metadata": {
            "needs_background": "light"
          }
        }
      ],
      "source": [
        "plt.figure(figsize=(15,10))\n",
        "plt.subplot(3, 2, 1)\n",
        "\n",
        "sns.distplot(matriz1['normal'], hist=True, kde=False, \n",
        "             bins=int(20), color = 'red',\n",
        "             hist_kws={'edgecolor':'black'})\n",
        "\n",
        "plt.subplot(2, 2, 2)\n",
        "\n",
        "sns.distplot(matriz1['uniforme'], hist=True, kde=False, \n",
        "             bins=int(20), color = 'yellow',\n",
        "             hist_kws={'edgecolor':'black'})\n",
        "\n",
        "plt.subplot(2, 2, 3)\n",
        "\n",
        "\n",
        "sns.distplot(matriz1['Sesgada'], hist=True, kde=False, \n",
        "             bins=int(20), color = 'yellow',\n",
        "             hist_kws={'edgecolor':'black'})\n",
        "\n",
        "\n"
      ]
    },
    {
      "cell_type": "code",
      "execution_count": 4,
      "id": "RAqmqgcn7iy3",
      "metadata": {
        "colab": {
          "base_uri": "https://localhost:8080/"
        },
        "id": "RAqmqgcn7iy3",
        "outputId": "e71c1637-f344-4279-9ac5-9e28518c5e97"
      },
      "outputs": [
        {
          "output_type": "stream",
          "name": "stdout",
          "text": [
            "FORMATO DE LA MATRIZ 1(200, 3)\n",
            "FORMATO DE LA MATRIZ 2(200, 3)\n",
            "-----\n",
            "Head de la MATRIZ 1\n",
            "      normal   uniforme    Sesgada\n",
            "0  51.624345  50.519016  40.461274\n",
            "1  49.388244  50.174720  49.388244\n",
            "2  49.471828  50.570716  49.471828\n",
            "3  48.927031  50.996753  48.927031\n",
            "4  50.865408  50.816835  28.250383\n",
            "Head de la MATRIZ 2\n",
            "       normal    uniforme    Sesgada\n",
            "0   99.599122  100.784457  99.599122\n",
            "1  100.824006  100.456966  97.051741\n",
            "2   99.437695  100.656229  99.437695\n",
            "3  101.954878  100.131841  99.588970\n",
            "4   98.668048  100.432982  98.668048\n",
            "-----\n",
            "Columnas de la MATRIZ 1\n",
            "Index(['normal', 'uniforme', 'Sesgada'], dtype='object')\n",
            "Columnas de la MATRIZ 2\n",
            "Index(['normal', 'uniforme', 'Sesgada'], dtype='object')\n",
            "-----\n",
            "Info MATRIZ 1\n",
            "<class 'pandas.core.frame.DataFrame'>\n",
            "RangeIndex: 200 entries, 0 to 199\n",
            "Data columns (total 3 columns):\n",
            " #   Column    Non-Null Count  Dtype  \n",
            "---  ------    --------------  -----  \n",
            " 0   normal    200 non-null    float64\n",
            " 1   uniforme  200 non-null    float64\n",
            " 2   Sesgada   200 non-null    float64\n",
            "dtypes: float64(3)\n",
            "memory usage: 4.8 KB\n",
            "None\n",
            "Info MATRIZ 2\n",
            "<class 'pandas.core.frame.DataFrame'>\n",
            "RangeIndex: 200 entries, 0 to 199\n",
            "Data columns (total 3 columns):\n",
            " #   Column    Non-Null Count  Dtype  \n",
            "---  ------    --------------  -----  \n",
            " 0   normal    200 non-null    float64\n",
            " 1   uniforme  200 non-null    float64\n",
            " 2   Sesgada   200 non-null    float64\n",
            "dtypes: float64(3)\n",
            "memory usage: 4.8 KB\n",
            "None\n"
          ]
        }
      ],
      "source": [
        "# SIMULAMOS LOS PASOS DE EL ANALISIS EXPLORATORIO DE DATOS\n",
        "# SIMULAMOS YA QUE ESTAMOS PARTIENDO DE UNA MATRIZ GENERADA POR NOSOTROS\n",
        "\n",
        "print(\"FORMATO DE LA MATRIZ 1\"+str(matriz1.shape))\n",
        "print(\"FORMATO DE LA MATRIZ 2\"+str(matriz2.shape))\n",
        "print(\"-\"*5)\n",
        "print(\"Head de la MATRIZ 1\")\n",
        "print(matriz1.head())\n",
        "print(\"Head de la MATRIZ 2\")\n",
        "print(matriz2.head())\n",
        "\n",
        "print(\"-\"*5)\n",
        "print(\"Columnas de la MATRIZ 1\")\n",
        "print(matriz1.columns)\n",
        "print(\"Columnas de la MATRIZ 2\")\n",
        "print(matriz2.columns)\n",
        "\n",
        "print(\"-\"*5)\n",
        "print(\"Info MATRIZ 1\")\n",
        "print(matriz1.info())\n",
        "print(\"Info MATRIZ 2\")\n",
        "print(matriz2.info())\n",
        "\n",
        "\n",
        "\n",
        "\n",
        "\n"
      ]
    },
    {
      "cell_type": "code",
      "execution_count": 6,
      "id": "9l4UXNkxJh87",
      "metadata": {
        "colab": {
          "base_uri": "https://localhost:8080/"
        },
        "id": "9l4UXNkxJh87",
        "outputId": "a9f9e612-9c1a-42b3-9504-658f4587b289"
      },
      "outputs": [
        {
          "output_type": "stream",
          "name": "stdout",
          "text": [
            "Valores nulos en matriz1 \n",
            "0\n",
            "Valores nulos en matriz2 \n",
            "0\n"
          ]
        }
      ],
      "source": [
        "  # CONTROLAMOS EXISTENCIA DE VALORES NULOS\n",
        "  ac=0\n",
        "  for i in matriz1:\n",
        "    ac=matriz1[i].isnull().sum()+ac\n",
        "  print(\"Valores nulos en matriz1 \\n\"+ str(ac))\n",
        "    \n",
        "  ac=0\n",
        "  for i in matriz2:\n",
        "    ac=matriz2[i].isnull().sum()+ac\n",
        "  print(\"Valores nulos en matriz2 \\n\"+ str(ac))"
      ]
    },
    {
      "cell_type": "code",
      "execution_count": 7,
      "id": "2My0WtHubzpY",
      "metadata": {
        "colab": {
          "base_uri": "https://localhost:8080/"
        },
        "id": "2My0WtHubzpY",
        "outputId": "61aeb0c7-9b0e-4dc0-b085-7d064f7bc8b6"
      },
      "outputs": [
        {
          "output_type": "stream",
          "name": "stdout",
          "text": [
            "       normal  uniforme  Sesgada\n",
            "count   200.0     200.0    200.0\n",
            "mean     50.0      50.0     43.0\n",
            "std       1.0       0.0      8.0\n",
            "min      48.0      50.0     25.0\n",
            "25%      50.0      50.0     36.0\n",
            "50%      50.0      50.0     47.0\n",
            "75%      51.0      51.0     49.0\n",
            "max      53.0      51.0     50.0 2\n",
            "       normal  uniforme  Sesgada\n",
            "count   200.0     200.0    200.0\n",
            "mean    100.0     101.0     98.0\n",
            "std       1.0       0.0      1.0\n",
            "min      97.0     100.0     95.0\n",
            "25%      99.0     100.0     98.0\n",
            "50%     100.0     101.0     99.0\n",
            "75%     101.0     101.0     99.0\n",
            "max     103.0     101.0    100.0 2\n"
          ]
        }
      ],
      "source": [
        "# CONTROLAMOS LA \"descripcion\" DE LAS MATRICES , COMO ESTAN CONFORMADAS\n",
        "\n",
        "print(round(matriz1.describe()),2)\n",
        "\n",
        "print(round(matriz2.describe()),2)"
      ]
    },
    {
      "cell_type": "code",
      "execution_count": 8,
      "id": "TRsYtbRAg1Lf",
      "metadata": {
        "colab": {
          "base_uri": "https://localhost:8080/",
          "height": 609
        },
        "id": "TRsYtbRAg1Lf",
        "outputId": "ea77bae3-9954-42dd-d508-b344d454463b"
      },
      "outputs": [
        {
          "output_type": "execute_result",
          "data": {
            "text/plain": [
              "Text(0, 0.5, 'Sesgada')"
            ]
          },
          "metadata": {},
          "execution_count": 8
        },
        {
          "output_type": "display_data",
          "data": {
            "text/plain": [
              "<Figure size 1080x720 with 3 Axes>"
            ],
            "image/png": "[encoded data removed]"
          },
          "metadata": {
            "needs_background": "light"
          }
        }
      ],
      "source": [
        "# ANALIZAMOS GRAFICAMENTE LA DISPERCION DE DATOS\n",
        "\n",
        "plt.figure(figsize=(15,10))\n",
        "\n",
        "\n",
        "plt.subplot(2, 2, 1)\n",
        "fig = matriz2.boxplot(column='normal')\n",
        "fig.set_title('')\n",
        "fig.set_ylabel('normal')\n",
        "\n",
        "\n",
        "\n",
        "\n",
        "plt.subplot(2, 2, 2)\n",
        "fig = matriz2.boxplot(column='uniforme')\n",
        "fig.set_title('')\n",
        "fig.set_ylabel('uniforme')\n",
        "\n",
        "\n",
        "plt.subplot(2, 2, 3)\n",
        "fig = matriz2.boxplot(column='Sesgada')\n",
        "fig.set_title('')\n",
        "fig.set_ylabel('Sesgada')"
      ]
    },
    {
      "cell_type": "code",
      "execution_count": 9,
      "id": "PA5-AIDMh-94",
      "metadata": {
        "colab": {
          "base_uri": "https://localhost:8080/",
          "height": 609
        },
        "id": "PA5-AIDMh-94",
        "outputId": "a753703b-f562-4f56-8fab-eee0c36868fc"
      },
      "outputs": [
        {
          "output_type": "execute_result",
          "data": {
            "text/plain": [
              "Text(0, 0.5, 'Sesgada')"
            ]
          },
          "metadata": {},
          "execution_count": 9
        },
        {
          "output_type": "display_data",
          "data": {
            "text/plain": [
              "<Figure size 1080x720 with 3 Axes>"
            ],
            "image/png": "[encoded data removed]"
          },
          "metadata": {
            "needs_background": "light"
          }
        }
      ],
      "source": [
        "plt.figure(figsize=(15,10))\n",
        "\n",
        "\n",
        "plt.subplot(2, 2, 1)\n",
        "fig = matriz1.boxplot(column='normal')\n",
        "fig.set_title('')\n",
        "fig.set_ylabel('normal')\n",
        "\n",
        "\n",
        "\n",
        "\n",
        "plt.subplot(2, 2, 2)\n",
        "fig = matriz1.boxplot(column='uniforme')\n",
        "fig.set_title('')\n",
        "fig.set_ylabel('uniforme')\n",
        "\n",
        "\n",
        "plt.subplot(2, 2, 3)\n",
        "fig = matriz1.boxplot(column='Sesgada')\n",
        "fig.set_title('')\n",
        "fig.set_ylabel('Sesgada')"
      ]
    },
    {
      "cell_type": "code",
      "execution_count": 10,
      "id": "JXel-MrWkk-W",
      "metadata": {
        "colab": {
          "base_uri": "https://localhost:8080/",
          "height": 328
        },
        "id": "JXel-MrWkk-W",
        "outputId": "879a5d60-b1a9-4745-af08-624b70c1036e"
      },
      "outputs": [
        {
          "output_type": "execute_result",
          "data": {
            "text/plain": [
              "Text(0, 0.5, 'Sesgada')"
            ]
          },
          "metadata": {},
          "execution_count": 10
        },
        {
          "output_type": "display_data",
          "data": {
            "text/plain": [
              "<Figure size 1080x720 with 2 Axes>"
            ],
            "image/png": "[encoded data removed]"
          },
          "metadata": {
            "needs_background": "light"
          }
        }
      ],
      "source": [
        "# DISTRIBUCION DE LOS OUTLIERS\n",
        "\n",
        "plt.figure(figsize=(15,10))\n",
        "\n",
        "\n",
        "plt.subplot(2, 2, 1)\n",
        "fig = matriz2.normal.hist(bins=10)\n",
        "fig.set_xlabel('normal')\n",
        "fig.set_ylabel('normal')\n",
        "\n",
        "plt.subplot(2, 2, 2)\n",
        "fig = matriz1.Sesgada.hist(bins=10)\n",
        "fig.set_xlabel('Sesgada')\n",
        "fig.set_ylabel('Sesgada')\n",
        "\n"
      ]
    },
    {
      "cell_type": "code",
      "execution_count": 11,
      "id": "9PtA_Fblk_y2",
      "metadata": {
        "colab": {
          "base_uri": "https://localhost:8080/"
        },
        "id": "9PtA_Fblk_y2",
        "outputId": "5a4e74de-464b-404c-dcd5-34a72dcdc431"
      },
      "outputs": [
        {
          "output_type": "stream",
          "name": "stdout",
          "text": [
            "49.32889983030013\n",
            "36.096449220845265\n",
            "13.232450609454865\n",
            "Sesgada - de matriz1 outliers are values < -3.6009026075193304 or > 89.02625165866473\n"
          ]
        }
      ],
      "source": [
        "#EVALUAMOS MATEMATICAMENTE LOS LIMITES DE LOS OUTLIERS\n",
        "\n",
        "q3=matriz1.Sesgada.quantile(0.75)\n",
        "q1=matriz1.Sesgada.quantile(0.25)\n",
        "IQR =  q3-q1\n",
        "print(q3)\n",
        "print(q1)\n",
        "print(IQR)\n",
        "Lower_fence = matriz1.Sesgada.quantile(0.25) - (IQR * 3)\n",
        "Upper_fence = matriz1.Sesgada.quantile(0.75) + (IQR * 3)\n",
        "print('Sesgada - de matriz1 outliers are values < {lowerboundary} or > {upperboundary}'.format(lowerboundary=Lower_fence, upperboundary=Upper_fence))"
      ]
    },
    {
      "cell_type": "code",
      "execution_count": 12,
      "id": "ciA95BevnEkJ",
      "metadata": {
        "id": "ciA95BevnEkJ",
        "outputId": "b374bf75-9d56-41bc-ebf8-9a483e73bd21",
        "colab": {
          "base_uri": "https://localhost:8080/"
        }
      },
      "outputs": [
        {
          "output_type": "stream",
          "name": "stdout",
          "text": [
            "(400, 3)\n",
            "(400, 1)\n"
          ]
        }
      ],
      "source": [
        "\n",
        "# CONVIERTO LOS OBJETOS NP EN DATAFRAME Y LOS TRASPONGO, LUEGO LOS CONCATENO PARA ARMAR UNA SOLA MATRIZ \n",
        "\n",
        "label_M1=pd.DataFrame(label_M1).T\n",
        "label_M2=pd.DataFrame(label_M2).T\n",
        "\n",
        "x_label = pd.concat([matriz1,matriz2])\n",
        "y_label = pd.concat([label_M1,label_M2])\n",
        "\n",
        "print(x_label.shape)\n",
        "\n",
        "print(y_label.shape)"
      ]
    },
    {
      "cell_type": "code",
      "execution_count": 13,
      "id": "4a7ac72f",
      "metadata": {
        "id": "4a7ac72f"
      },
      "outputs": [],
      "source": [
        "# REALIZO LA DIVISION DE ELEMENTOS DE ENTRENAMIENTO Y DE PRUEBA\n",
        "\n",
        "from sklearn.model_selection import train_test_split\n",
        "\n",
        "X_train, X_test, y_train, y_test = train_test_split(x_label, y_label, test_size = 0.2, random_state = 0)"
      ]
    },
    {
      "cell_type": "code",
      "execution_count": 14,
      "id": "9314dedd",
      "metadata": {
        "id": "9314dedd",
        "outputId": "e8e13069-7f47-4fa8-dbe6-7347b49aca86",
        "colab": {
          "base_uri": "https://localhost:8080/"
        }
      },
      "outputs": [
        {
          "output_type": "stream",
          "name": "stdout",
          "text": [
            "Cantidad de valores de la matriz1: normal      166\n",
            "uniforme    166\n",
            "Sesgada     166\n",
            "dtype: int64\n",
            " Cantidad de valores de la matriz2normal      154\n",
            "uniforme    154\n",
            "Sesgada     154\n",
            "dtype: int64\n",
            "porcentage entre matrices:normal      1.077922\n",
            "uniforme    1.077922\n",
            "Sesgada     1.077922\n",
            "dtype: float64\n"
          ]
        }
      ],
      "source": [
        "# ANALIZAMOS LA DISTRIBUCION DE LOS ELEMENTOS x_label donde se mezclan validos e invalidos (1 y 0)\n",
        "c_va=X_train[X_train['normal']>70].count()\n",
        "c_inva=X_train[X_train['normal']<70].count()\n",
        "\n",
        "print(\"Cantidad de valores de la matriz1: \"+str(c_va)+\"\\n Cantidad de valores de la matriz2\"+str(c_inva) )\n",
        "print(\"porcentage entre matrices:\" + str(c_va/c_inva))"
      ]
    },
    {
      "cell_type": "code",
      "execution_count": 15,
      "id": "50b1a842",
      "metadata": {
        "id": "50b1a842"
      },
      "outputs": [],
      "source": [
        "# PONGO EN ESCALA LOS VALORES DE LAS MATRICES DE DATOS\n",
        "cols = X_train.columns\n",
        "\n",
        "\n",
        "from sklearn.preprocessing import MinMaxScaler\n",
        "\n",
        "scaler = MinMaxScaler()\n",
        "\n",
        "X_train = scaler.fit_transform(X_train)\n",
        "\n",
        "X_test = scaler.transform(X_test)"
      ]
    },
    {
      "cell_type": "code",
      "execution_count": 16,
      "id": "15b7eed1",
      "metadata": {
        "id": "15b7eed1",
        "outputId": "6ee53f3a-336a-498d-c082-737dad497011",
        "colab": {
          "base_uri": "https://localhost:8080/",
          "height": 300
        }
      },
      "outputs": [
        {
          "output_type": "execute_result",
          "data": {
            "text/plain": [
              "           normal    uniforme     Sesgada\n",
              "count  320.000000  320.000000  320.000000\n",
              "mean     0.512327    0.518562    0.617217\n",
              "std      0.449843    0.491190    0.383316\n",
              "min      0.000000    0.000000    0.000000\n",
              "25%      0.047679    0.009619    0.275800\n",
              "50%      0.910326    0.981522    0.941243\n",
              "75%      0.944505    0.990866    0.986439\n",
              "max      1.000000    1.000000    1.000000"
            ],
            "text/html": [
              "\n",
              "  <div id=\"df-e665597b-7aa0-4c43-9905-ea3f0538b8ef\">\n",
              "    <div class=\"colab-df-container\">\n",
              "      <div>\n",
              "<style scoped>\n",
              "    .dataframe tbody tr th:only-of-type {\n",
              "        vertical-align: middle;\n",
              "    }\n",
              "\n",
              "    .dataframe tbody tr th {\n",
              "        vertical-align: top;\n",
              "    }\n",
              "\n",
              "    .dataframe thead tr th {\n",
              "        text-align: left;\n",
              "    }\n",
              "</style>\n",
              "<table border=\"1\" class=\"dataframe\">\n",
              "  <thead>\n",
              "    <tr>\n",
              "      <th></th>\n",
              "      <th>normal</th>\n",
              "      <th>uniforme</th>\n",
              "      <th>Sesgada</th>\n",
              "    </tr>\n",
              "  </thead>\n",
              "  <tbody>\n",
              "    <tr>\n",
              "      <th>count</th>\n",
              "      <td>320.000000</td>\n",
              "      <td>320.000000</td>\n",
              "      <td>320.000000</td>\n",
              "    </tr>\n",
              "    <tr>\n",
              "      <th>mean</th>\n",
              "      <td>0.512327</td>\n",
              "      <td>0.518562</td>\n",
              "      <td>0.617217</td>\n",
              "    </tr>\n",
              "    <tr>\n",
              "      <th>std</th>\n",
              "      <td>0.449843</td>\n",
              "      <td>0.491190</td>\n",
              "      <td>0.383316</td>\n",
              "    </tr>\n",
              "    <tr>\n",
              "      <th>min</th>\n",
              "      <td>0.000000</td>\n",
              "      <td>0.000000</td>\n",
              "      <td>0.000000</td>\n",
              "    </tr>\n",
              "    <tr>\n",
              "      <th>25%</th>\n",
              "      <td>0.047679</td>\n",
              "      <td>0.009619</td>\n",
              "      <td>0.275800</td>\n",
              "    </tr>\n",
              "    <tr>\n",
              "      <th>50%</th>\n",
              "      <td>0.910326</td>\n",
              "      <td>0.981522</td>\n",
              "      <td>0.941243</td>\n",
              "    </tr>\n",
              "    <tr>\n",
              "      <th>75%</th>\n",
              "      <td>0.944505</td>\n",
              "      <td>0.990866</td>\n",
              "      <td>0.986439</td>\n",
              "    </tr>\n",
              "    <tr>\n",
              "      <th>max</th>\n",
              "      <td>1.000000</td>\n",
              "      <td>1.000000</td>\n",
              "      <td>1.000000</td>\n",
              "    </tr>\n",
              "  </tbody>\n",
              "</table>\n",
              "</div>\n",
              "      <button class=\"colab-df-convert\" onclick=\"convertToInteractive('df-e665597b-7aa0-4c43-9905-ea3f0538b8ef')\"\n",
              "              title=\"Convert this dataframe to an interactive table.\"\n",
              "              style=\"display:none;\">\n",
              "        \n",
              "  <svg xmlns=\"http://www.w3.org/2000/svg\" height=\"24px\"viewBox=\"0 0 24 24\"\n",
              "       width=\"24px\">\n",
              "    <path d=\"M0 0h24v24H0V0z\" fill=\"none\"/>\n",
              "    <path d=\"M18.56 5.44l.94 2.06.94-2.06 2.06-.94-2.06-.94-.94-2.06-.94 2.06-2.06.94zm-11 1L8.5 8.5l.94-2.06 2.06-.94-2.06-.94L8.5 2.5l-.94 2.06-2.06.94zm10 10l.94 2.06.94-2.06 2.06-.94-2.06-.94-.94-2.06-.94 2.06-2.06.94z\"/><path d=\"M17.41 7.96l-1.37-1.37c-.4-.4-.92-.59-1.43-.59-.52 0-1.04.2-1.43.59L10.3 9.45l-7.72 7.72c-.78.78-.78 2.05 0 2.83L4 21.41c.39.39.9.59 1.41.59.51 0 1.02-.2 1.41-.59l7.78-7.78 2.81-2.81c.8-.78.8-2.07 0-2.86zM5.41 20L4 18.59l7.72-7.72 1.47 1.35L5.41 20z\"/>\n",
              "  </svg>\n",
              "      </button>\n",
              "      \n",
              "  <style>\n",
              "    .colab-df-container {\n",
              "      display:flex;\n",
              "      flex-wrap:wrap;\n",
              "      gap: 12px;\n",
              "    }\n",
              "\n",
              "    .colab-df-convert {\n",
              "      background-color: #E8F0FE;\n",
              "      border: none;\n",
              "      border-radius: 50%;\n",
              "      cursor: pointer;\n",
              "      display: none;\n",
              "      fill: #1967D2;\n",
              "      height: 32px;\n",
              "      padding: 0 0 0 0;\n",
              "      width: 32px;\n",
              "    }\n",
              "\n",
              "    .colab-df-convert:hover {\n",
              "      background-color: #E2EBFA;\n",
              "      box-shadow: 0px 1px 2px rgba(60, 64, 67, 0.3), 0px 1px 3px 1px rgba(60, 64, 67, 0.15);\n",
              "      fill: #174EA6;\n",
              "    }\n",
              "\n",
              "    [theme=dark] .colab-df-convert {\n",
              "      background-color: #3B4455;\n",
              "      fill: #D2E3FC;\n",
              "    }\n",
              "\n",
              "    [theme=dark] .colab-df-convert:hover {\n",
              "      background-color: #434B5C;\n",
              "      box-shadow: 0px 1px 3px 1px rgba(0, 0, 0, 0.15);\n",
              "      filter: drop-shadow(0px 1px 2px rgba(0, 0, 0, 0.3));\n",
              "      fill: #FFFFFF;\n",
              "    }\n",
              "  </style>\n",
              "\n",
              "      <script>\n",
              "        const buttonEl =\n",
              "          document.querySelector('#df-e665597b-7aa0-4c43-9905-ea3f0538b8ef button.colab-df-convert');\n",
              "        buttonEl.style.display =\n",
              "          google.colab.kernel.accessAllowed ? 'block' : 'none';\n",
              "\n",
              "        async function convertToInteractive(key) {\n",
              "          const element = document.querySelector('#df-e665597b-7aa0-4c43-9905-ea3f0538b8ef');\n",
              "          const dataTable =\n",
              "            await google.colab.kernel.invokeFunction('convertToInteractive',\n",
              "                                                     [key], {});\n",
              "          if (!dataTable) return;\n",
              "\n",
              "          const docLinkHtml = 'Like what you see? Visit the ' +\n",
              "            '<a target=\"_blank\" href=https://colab.research.google.com/notebooks/data_table.ipynb>data table notebook</a>'\n",
              "            + ' to learn more about interactive tables.';\n",
              "          element.innerHTML = '';\n",
              "          dataTable['output_type'] = 'display_data';\n",
              "          await google.colab.output.renderOutput(dataTable, element);\n",
              "          const docLink = document.createElement('div');\n",
              "          docLink.innerHTML = docLinkHtml;\n",
              "          element.appendChild(docLink);\n",
              "        }\n",
              "      </script>\n",
              "    </div>\n",
              "  </div>\n",
              "  "
            ]
          },
          "metadata": {},
          "execution_count": 16
        }
      ],
      "source": [
        "X_train = pd.DataFrame(X_train, columns=[cols])\n",
        "X_test = pd.DataFrame(X_test, columns=[cols])\n",
        "\n",
        "X_train.describe()"
      ]
    },
    {
      "cell_type": "code",
      "execution_count": 17,
      "id": "3451524d",
      "metadata": {
        "id": "3451524d",
        "outputId": "986c2321-7b61-4667-e065-a00109ff6220",
        "colab": {
          "base_uri": "https://localhost:8080/"
        }
      },
      "outputs": [
        {
          "output_type": "stream",
          "name": "stderr",
          "text": [
            "/usr/local/lib/python3.7/dist-packages/sklearn/utils/validation.py:1692: FutureWarning: Feature names only support names that are all strings. Got feature names with dtypes: ['tuple']. An error will be raised in 1.2.\n",
            "  FutureWarning,\n",
            "/usr/local/lib/python3.7/dist-packages/sklearn/utils/validation.py:993: DataConversionWarning: A column-vector y was passed when a 1d array was expected. Please change the shape of y to (n_samples, ), for example using ravel().\n",
            "  y = column_or_1d(y, warn=True)\n"
          ]
        },
        {
          "output_type": "execute_result",
          "data": {
            "text/plain": [
              "LogisticRegression(random_state=0, solver='liblinear')"
            ]
          },
          "metadata": {},
          "execution_count": 17
        }
      ],
      "source": [
        "\n",
        "\n",
        "# IMPORTAMOS EL METODO LOGISTICREGRESSION\n",
        "from sklearn.linear_model import LogisticRegression\n",
        "\n",
        "\n",
        "# INSTANCIAMOS EL MODELO CON LA MAYORIA DE LOS PARAMETROS POR DEFECTO\n",
        "logreg = LogisticRegression(solver='liblinear', random_state=0)\n",
        "\n",
        "\n",
        "# ENTRENAMOS EL MODELO\n",
        "logreg.fit(X_train, y_train)"
      ]
    },
    {
      "cell_type": "code",
      "execution_count": 18,
      "id": "bd90f1bc",
      "metadata": {
        "id": "bd90f1bc",
        "outputId": "bea7fa37-1f9b-4de0-c887-343caead3ec8",
        "colab": {
          "base_uri": "https://localhost:8080/"
        }
      },
      "outputs": [
        {
          "output_type": "stream",
          "name": "stderr",
          "text": [
            "/usr/local/lib/python3.7/dist-packages/sklearn/utils/validation.py:1692: FutureWarning: Feature names only support names that are all strings. Got feature names with dtypes: ['tuple']. An error will be raised in 1.2.\n",
            "  FutureWarning,\n"
          ]
        },
        {
          "output_type": "execute_result",
          "data": {
            "text/plain": [
              "array([1., 0., 0., 1., 0., 1., 1., 0., 1., 0., 1., 1., 1., 0., 1., 1., 0.,\n",
              "       1., 0., 1., 1., 0., 1., 0., 1., 0., 1., 1., 0., 1., 1., 0., 0., 0.,\n",
              "       1., 1., 1., 1., 1., 0., 1., 0., 1., 1., 0., 1., 0., 0., 1., 0., 0.,\n",
              "       1., 0., 1., 0., 0., 1., 1., 1., 1., 1., 0., 1., 0., 1., 0., 1., 1.,\n",
              "       1., 0., 1., 0., 1., 1., 1., 1., 0., 0., 0., 0.])"
            ]
          },
          "metadata": {},
          "execution_count": 18
        }
      ],
      "source": [
        "#REALIZAMOS UNA PREDICCION\n",
        "y_pred_test = logreg.predict(X_test)\n",
        "\n",
        "y_pred_test"
      ]
    },
    {
      "cell_type": "code",
      "execution_count": 19,
      "id": "6fc78d6f",
      "metadata": {
        "id": "6fc78d6f",
        "outputId": "00ce674e-2a88-4e4e-b3a7-92929fb36450",
        "colab": {
          "base_uri": "https://localhost:8080/"
        }
      },
      "outputs": [
        {
          "output_type": "stream",
          "name": "stderr",
          "text": [
            "/usr/local/lib/python3.7/dist-packages/sklearn/utils/validation.py:1692: FutureWarning: Feature names only support names that are all strings. Got feature names with dtypes: ['tuple']. An error will be raised in 1.2.\n",
            "  FutureWarning,\n"
          ]
        },
        {
          "output_type": "execute_result",
          "data": {
            "text/plain": [
              "array([0.95214452, 0.02047786, 0.01891061, 0.9481073 , 0.0195113 ,\n",
              "       0.95123828, 0.94809764, 0.02214655, 0.94969057, 0.02123432,\n",
              "       0.95132688, 0.96351575, 0.95063538, 0.01973408, 0.94921747,\n",
              "       0.94823659, 0.02078161, 0.948364  , 0.02175008, 0.96498537,\n",
              "       0.95656281, 0.0194246 , 0.95535969, 0.01953751, 0.94787194,\n",
              "       0.02014197, 0.96346029, 0.95269638, 0.01953802, 0.95901778,\n",
              "       0.94943738, 0.02046936, 0.01771291, 0.01941343, 0.94913981,\n",
              "       0.94825348, 0.9653112 , 0.94819534, 0.94991418, 0.0179633 ,\n",
              "       0.95053432, 0.02052693, 0.94948284, 0.95105025, 0.02024505,\n",
              "       0.94871673, 0.01845507, 0.02071452, 0.96038106, 0.01806079,\n",
              "       0.02059254, 0.95712809, 0.02018553, 0.94806812, 0.02084463,\n",
              "       0.0204797 , 0.95145379, 0.94852912, 0.94846069, 0.95010633,\n",
              "       0.96858864, 0.02001111, 0.96462469, 0.02104082, 0.95124297,\n",
              "       0.02072666, 0.96795382, 0.95533909, 0.96032096, 0.01933624,\n",
              "       0.94937504, 0.01975012, 0.96108962, 0.95124088, 0.95081681,\n",
              "       0.96007613, 0.020759  , 0.0196235 , 0.01990214, 0.0196639 ])"
            ]
          },
          "metadata": {},
          "execution_count": 19
        }
      ],
      "source": [
        "#EVALAMOS LA PROBABILIDAD DE QUE EL RESULTADO SEA 1\n",
        "logreg.predict_proba(X_test)[:,1]"
      ]
    },
    {
      "cell_type": "code",
      "execution_count": 20,
      "id": "033429ca",
      "metadata": {
        "id": "033429ca",
        "outputId": "9a3aa7ed-e05f-419d-9291-b5b90ac6a638",
        "colab": {
          "base_uri": "https://localhost:8080/"
        }
      },
      "outputs": [
        {
          "output_type": "stream",
          "name": "stdout",
          "text": [
            "Model accuracy score: 1.0000\n"
          ]
        }
      ],
      "source": [
        "# INICIAMOS LOS ANALISIS DE METRICAS\n",
        "\n",
        "from sklearn.metrics import accuracy_score\n",
        "\n",
        "print('Model accuracy score: {0:0.4f}'. format(accuracy_score(y_test, y_pred_test)))"
      ]
    },
    {
      "cell_type": "code",
      "execution_count": 21,
      "id": "65db6926",
      "metadata": {
        "id": "65db6926",
        "outputId": "9445f60d-2204-42d2-9859-a87aab5dee9a",
        "colab": {
          "base_uri": "https://localhost:8080/"
        }
      },
      "outputs": [
        {
          "output_type": "stream",
          "name": "stderr",
          "text": [
            "/usr/local/lib/python3.7/dist-packages/sklearn/utils/validation.py:1692: FutureWarning: Feature names only support names that are all strings. Got feature names with dtypes: ['tuple']. An error will be raised in 1.2.\n",
            "  FutureWarning,\n"
          ]
        },
        {
          "output_type": "execute_result",
          "data": {
            "text/plain": [
              "array([0., 1., 1., 1., 0., 0., 1., 0., 0., 0., 0., 0., 1., 1., 1., 1., 1.,\n",
              "       0., 0., 0., 0., 1., 0., 1., 0., 0., 1., 0., 1., 0., 1., 1., 0., 1.,\n",
              "       0., 0., 0., 1., 0., 0., 1., 0., 0., 0., 0., 1., 1., 0., 0., 1., 1.,\n",
              "       0., 1., 0., 0., 1., 0., 1., 0., 1., 1., 1., 1., 1., 0., 1., 0., 0.,\n",
              "       0., 1., 0., 1., 0., 1., 0., 1., 0., 1., 1., 0., 0., 1., 1., 0., 1.,\n",
              "       1., 0., 1., 1., 1., 1., 0., 0., 0., 0., 0., 1., 1., 0., 0., 0., 1.,\n",
              "       1., 0., 0., 0., 1., 1., 0., 0., 1., 0., 0., 1., 1., 0., 1., 0., 0.,\n",
              "       0., 1., 0., 0., 0., 0., 0., 0., 1., 0., 0., 1., 1., 0., 1., 0., 1.,\n",
              "       1., 1., 1., 0., 0., 0., 1., 1., 0., 1., 0., 0., 1., 1., 0., 0., 0.,\n",
              "       0., 0., 1., 1., 1., 1., 1., 0., 1., 0., 1., 0., 0., 1., 1., 1., 1.,\n",
              "       1., 0., 1., 1., 0., 0., 0., 1., 0., 0., 0., 0., 1., 0., 0., 1., 0.,\n",
              "       1., 1., 1., 0., 0., 0., 1., 0., 1., 0., 1., 0., 1., 0., 1., 0., 1.,\n",
              "       1., 0., 1., 0., 0., 0., 0., 1., 0., 1., 0., 1., 1., 1., 1., 1., 0.,\n",
              "       0., 1., 0., 1., 0., 1., 0., 1., 0., 1., 1., 0., 1., 0., 0., 0., 1.,\n",
              "       1., 1., 1., 0., 0., 0., 0., 0., 1., 1., 0., 0., 1., 1., 0., 1., 0.,\n",
              "       1., 0., 0., 0., 1., 1., 0., 0., 0., 1., 1., 0., 1., 0., 1., 1., 1.,\n",
              "       1., 0., 0., 1., 1., 1., 1., 0., 0., 0., 1., 0., 0., 1., 1., 0., 0.,\n",
              "       1., 0., 1., 0., 1., 0., 1., 1., 0., 0., 1., 0., 1., 1., 0., 1., 1.,\n",
              "       1., 0., 0., 0., 0., 1., 0., 1., 0., 0., 1., 1., 1., 1.])"
            ]
          },
          "metadata": {},
          "execution_count": 21
        }
      ],
      "source": [
        "y_pred_train = logreg.predict(X_train)\n",
        "\n",
        "y_pred_train"
      ]
    },
    {
      "cell_type": "code",
      "execution_count": 22,
      "id": "1e9d8b9e",
      "metadata": {
        "id": "1e9d8b9e",
        "outputId": "ac7423e1-6695-4b8b-b3e0-1ff49cc300f4",
        "colab": {
          "base_uri": "https://localhost:8080/"
        }
      },
      "outputs": [
        {
          "output_type": "stream",
          "name": "stdout",
          "text": [
            "Training-set accuracy score: 1.0000\n"
          ]
        }
      ],
      "source": [
        "print('Training-set accuracy score: {0:0.4f}'. format(accuracy_score(y_train, y_pred_train)))\n",
        "# SI BIEN VEMOS QUE TIENE UN ACCURACY MUY ALTO VAMOS A COMPROBAR LUEGO CON LA MATRIZ DE CONFUSION QUE EL SISTEMA NO ESTA FUNCIONANDO CORRECTAMENTE"
      ]
    },
    {
      "cell_type": "code",
      "execution_count": 23,
      "id": "bc7ec07e",
      "metadata": {
        "id": "bc7ec07e",
        "outputId": "020f48e3-1ca3-45ef-a8d5-5e9ff7bceff1",
        "colab": {
          "base_uri": "https://localhost:8080/"
        }
      },
      "outputs": [
        {
          "output_type": "stream",
          "name": "stdout",
          "text": [
            "Training set score: 1.0000\n",
            "Test set score: 1.0000\n"
          ]
        },
        {
          "output_type": "stream",
          "name": "stderr",
          "text": [
            "/usr/local/lib/python3.7/dist-packages/sklearn/utils/validation.py:1692: FutureWarning: Feature names only support names that are all strings. Got feature names with dtypes: ['tuple']. An error will be raised in 1.2.\n",
            "  FutureWarning,\n",
            "/usr/local/lib/python3.7/dist-packages/sklearn/utils/validation.py:1692: FutureWarning: Feature names only support names that are all strings. Got feature names with dtypes: ['tuple']. An error will be raised in 1.2.\n",
            "  FutureWarning,\n"
          ]
        }
      ],
      "source": [
        "# print the scores on training and test set\n",
        "\n",
        "print('Training set score: {:.4f}'.format(logreg.score(X_train, y_train)))\n",
        "\n",
        "print('Test set score: {:.4f}'.format(logreg.score(X_test, y_test)))"
      ]
    },
    {
      "cell_type": "code",
      "execution_count": 24,
      "id": "1c95a9b8",
      "metadata": {
        "id": "1c95a9b8",
        "outputId": "52d96f6c-5cb6-44a2-b276-8867f5a7397c",
        "colab": {
          "base_uri": "https://localhost:8080/"
        }
      },
      "outputs": [
        {
          "output_type": "stream",
          "name": "stderr",
          "text": [
            "/usr/local/lib/python3.7/dist-packages/sklearn/utils/validation.py:1692: FutureWarning: Feature names only support names that are all strings. Got feature names with dtypes: ['tuple']. An error will be raised in 1.2.\n",
            "  FutureWarning,\n",
            "/usr/local/lib/python3.7/dist-packages/sklearn/utils/validation.py:993: DataConversionWarning: A column-vector y was passed when a 1d array was expected. Please change the shape of y to (n_samples, ), for example using ravel().\n",
            "  y = column_or_1d(y, warn=True)\n"
          ]
        },
        {
          "output_type": "execute_result",
          "data": {
            "text/plain": [
              "LogisticRegression(C=100, random_state=0, solver='liblinear')"
            ]
          },
          "metadata": {},
          "execution_count": 24
        }
      ],
      "source": [
        "# REPITE EXPERIMENTO CAMBIANDO EL VALOR DE C\n",
        "\n",
        "# fit the Logsitic Regression model with C=100\n",
        "\n",
        "# instantiate the model\n",
        "logreg100 = LogisticRegression(C=100, solver='liblinear', random_state=0)\n",
        "\n",
        "\n",
        "# fit the model\n",
        "logreg100.fit(X_train, y_train)"
      ]
    },
    {
      "cell_type": "code",
      "execution_count": 25,
      "id": "36b81279",
      "metadata": {
        "id": "36b81279",
        "outputId": "e3bfdb4c-9951-42c8-e335-611ccf952cdc",
        "colab": {
          "base_uri": "https://localhost:8080/"
        }
      },
      "outputs": [
        {
          "output_type": "stream",
          "name": "stdout",
          "text": [
            "Training set score: 1.0000\n",
            "Test set score: 1.0000\n"
          ]
        },
        {
          "output_type": "stream",
          "name": "stderr",
          "text": [
            "/usr/local/lib/python3.7/dist-packages/sklearn/utils/validation.py:1692: FutureWarning: Feature names only support names that are all strings. Got feature names with dtypes: ['tuple']. An error will be raised in 1.2.\n",
            "  FutureWarning,\n",
            "/usr/local/lib/python3.7/dist-packages/sklearn/utils/validation.py:1692: FutureWarning: Feature names only support names that are all strings. Got feature names with dtypes: ['tuple']. An error will be raised in 1.2.\n",
            "  FutureWarning,\n"
          ]
        }
      ],
      "source": [
        "\n",
        "print('Training set score: {:.4f}'.format(logreg100.score(X_train, y_train)))\n",
        "\n",
        "print('Test set score: {:.4f}'.format(logreg100.score(X_test, y_test)))"
      ]
    },
    {
      "cell_type": "code",
      "execution_count": 26,
      "id": "bee6fb14",
      "metadata": {
        "id": "bee6fb14",
        "outputId": "bd5dcced-3fe1-4f98-e951-3da085a67718",
        "colab": {
          "base_uri": "https://localhost:8080/"
        }
      },
      "outputs": [
        {
          "output_type": "stream",
          "name": "stderr",
          "text": [
            "/usr/local/lib/python3.7/dist-packages/sklearn/utils/validation.py:1692: FutureWarning: Feature names only support names that are all strings. Got feature names with dtypes: ['tuple']. An error will be raised in 1.2.\n",
            "  FutureWarning,\n",
            "/usr/local/lib/python3.7/dist-packages/sklearn/utils/validation.py:993: DataConversionWarning: A column-vector y was passed when a 1d array was expected. Please change the shape of y to (n_samples, ), for example using ravel().\n",
            "  y = column_or_1d(y, warn=True)\n"
          ]
        },
        {
          "output_type": "execute_result",
          "data": {
            "text/plain": [
              "LogisticRegression(C=0.001, random_state=0, solver='liblinear')"
            ]
          },
          "metadata": {},
          "execution_count": 26
        }
      ],
      "source": [
        "# REPITE EXPERIMENTO CAMBIANDO EL VALOR DE C\n",
        "\n",
        "# fit the Logsitic Regression model with C=100\n",
        "\n",
        "# instantiate the model\n",
        "logreg001 = LogisticRegression(C=0.001, solver='liblinear', random_state=0)\n",
        "\n",
        "\n",
        "# fit the model\n",
        "logreg001.fit(X_train, y_train)"
      ]
    },
    {
      "cell_type": "code",
      "execution_count": 27,
      "id": "0eb7d40b",
      "metadata": {
        "id": "0eb7d40b",
        "outputId": "ed8c09ae-cea0-4f6c-d47d-02fbbb26d8ae",
        "colab": {
          "base_uri": "https://localhost:8080/"
        }
      },
      "outputs": [
        {
          "output_type": "stream",
          "name": "stdout",
          "text": [
            "Training set score: 0.5188\n",
            "Test set score: 0.4250\n"
          ]
        },
        {
          "output_type": "stream",
          "name": "stderr",
          "text": [
            "/usr/local/lib/python3.7/dist-packages/sklearn/utils/validation.py:1692: FutureWarning: Feature names only support names that are all strings. Got feature names with dtypes: ['tuple']. An error will be raised in 1.2.\n",
            "  FutureWarning,\n",
            "/usr/local/lib/python3.7/dist-packages/sklearn/utils/validation.py:1692: FutureWarning: Feature names only support names that are all strings. Got feature names with dtypes: ['tuple']. An error will be raised in 1.2.\n",
            "  FutureWarning,\n"
          ]
        }
      ],
      "source": [
        "# print the scores on training and test set\n",
        "\n",
        "print('Training set score: {:.4f}'.format(logreg001.score(X_train, y_train)))\n",
        "\n",
        "print('Test set score: {:.4f}'.format(logreg001.score(X_test, y_test)))"
      ]
    },
    {
      "cell_type": "code",
      "execution_count": 28,
      "id": "838d638a",
      "metadata": {
        "id": "838d638a",
        "outputId": "f68d0ad8-1628-46a8-e748-23f8c796d01d",
        "colab": {
          "base_uri": "https://localhost:8080/"
        }
      },
      "outputs": [
        {
          "output_type": "stream",
          "name": "stdout",
          "text": [
            "Null accuracy score: 0.5750\n"
          ]
        }
      ],
      "source": [
        "null_accuracy=y_test.value_counts()[1]/(y_test.value_counts()[1]+y_test.value_counts()[0])\n",
        "\n",
        "print('Null accuracy score: {0:0.4f}'. format(null_accuracy))"
      ]
    },
    {
      "cell_type": "code",
      "execution_count": 29,
      "id": "7196004a",
      "metadata": {
        "id": "7196004a",
        "outputId": "7a3b5a35-e8b1-4a1e-c4a4-ab2a182aa792",
        "colab": {
          "base_uri": "https://localhost:8080/"
        }
      },
      "outputs": [
        {
          "output_type": "stream",
          "name": "stdout",
          "text": [
            "Confusion matrix\n",
            "\n",
            " [[34  0]\n",
            " [ 0 46]]\n",
            "\n",
            "True Positives(TP) =  34\n",
            "\n",
            "True Negatives(TN) =  46\n",
            "\n",
            "False Positives(FP) =  0\n",
            "\n",
            "False Negatives(FN) =  0\n"
          ]
        }
      ],
      "source": [
        "# MATRIZ DE CONFUSION\n",
        "\n",
        "# Print the Confusion Matrix and slice it into four pieces\n",
        "\n",
        "from sklearn.metrics import confusion_matrix\n",
        "\n",
        "cm = confusion_matrix(y_test, y_pred_test)\n",
        "\n",
        "print('Confusion matrix\\n\\n', cm)\n",
        "\n",
        "print('\\nTrue Positives(TP) = ', cm[0,0])\n",
        "\n",
        "print('\\nTrue Negatives(TN) = ', cm[1,1])\n",
        "\n",
        "print('\\nFalse Positives(FP) = ', cm[0,1])\n",
        "\n",
        "print('\\nFalse Negatives(FN) = ', cm[1,0])"
      ]
    },
    {
      "cell_type": "code",
      "execution_count": 30,
      "id": "42d07ed4",
      "metadata": {
        "id": "42d07ed4",
        "outputId": "2048aa01-c81d-4759-84a0-85e39ac618bc",
        "colab": {
          "base_uri": "https://localhost:8080/",
          "height": 282
        }
      },
      "outputs": [
        {
          "output_type": "execute_result",
          "data": {
            "text/plain": [
              "<matplotlib.axes._subplots.AxesSubplot at 0x7f32881b6510>"
            ]
          },
          "metadata": {},
          "execution_count": 30
        },
        {
          "output_type": "display_data",
          "data": {
            "text/plain": [
              "<Figure size 432x288 with 2 Axes>"
            ],
            "image/png": "[encoded data removed]"
          },
          "metadata": {
            "needs_background": "light"
          }
        }
      ],
      "source": [
        "# COMO SE PUEDE VER EL 100% DE LOS CASOS DE PRUEBA NEGATIVOS DIERON FALSO POSITIVO, POR LO CUAL EL MODELO NO ESTA DETECTANDO CORRECTAMENTE LOS DATOS\n",
        "cm_matrix = pd.DataFrame(data=cm, columns=['Actual Positive:1', 'Actual Negative:0'], \n",
        "                                 index=['Predict Positive:1', 'Predict Negative:0'])\n",
        "\n",
        "sns.heatmap(cm_matrix, annot=True, fmt='d', cmap='YlGnBu')"
      ]
    },
    {
      "cell_type": "code",
      "execution_count": 31,
      "id": "2a5f700d",
      "metadata": {
        "id": "2a5f700d",
        "outputId": "7b31edba-ec10-4532-989c-ee86dc1ef7a7",
        "colab": {
          "base_uri": "https://localhost:8080/"
        }
      },
      "outputs": [
        {
          "output_type": "stream",
          "name": "stdout",
          "text": [
            "              precision    recall  f1-score   support\n",
            "\n",
            "         0.0       1.00      1.00      1.00        34\n",
            "         1.0       1.00      1.00      1.00        46\n",
            "\n",
            "    accuracy                           1.00        80\n",
            "   macro avg       1.00      1.00      1.00        80\n",
            "weighted avg       1.00      1.00      1.00        80\n",
            "\n"
          ]
        }
      ],
      "source": [
        "from sklearn.metrics import classification_report\n",
        "\n",
        "print(classification_report(y_test, y_pred_test))"
      ]
    },
    {
      "cell_type": "code",
      "execution_count": 32,
      "id": "93fdb47d",
      "metadata": {
        "id": "93fdb47d"
      },
      "outputs": [],
      "source": [
        "TP = cm[0,0]\n",
        "TN = cm[1,1]\n",
        "FP = cm[0,1]\n",
        "FN = cm[1,0]"
      ]
    },
    {
      "cell_type": "code",
      "execution_count": null,
      "id": "ac409cc8",
      "metadata": {
        "id": "ac409cc8",
        "outputId": "e4b7cf83-6290-4a87-8692-a48ac52b10c3"
      },
      "outputs": [
        {
          "name": "stdout",
          "output_type": "stream",
          "text": [
            "Classification accuracy : 0.9318\n"
          ]
        }
      ],
      "source": [
        "\n",
        "classification_accuracy = (TP + TN) / float(TP + TN + FP + FN)\n",
        "\n",
        "print('Classification accuracy : {0:0.4f}'.format(classification_accuracy))"
      ]
    },
    {
      "cell_type": "code",
      "execution_count": null,
      "id": "d2fd1da9",
      "metadata": {
        "id": "d2fd1da9",
        "outputId": "4ebb0ce9-2b26-44cb-ec63-a5d790120044"
      },
      "outputs": [
        {
          "name": "stdout",
          "output_type": "stream",
          "text": [
            "Classification error : 0.0682\n"
          ]
        }
      ],
      "source": [
        "classification_error = (FP + FN) / float(TP + TN + FP + FN)\n",
        "\n",
        "print('Classification error : {0:0.4f}'.format(classification_error))"
      ]
    },
    {
      "cell_type": "code",
      "execution_count": 40,
      "id": "4ca66eb8",
      "metadata": {
        "id": "4ca66eb8",
        "colab": {
          "base_uri": "https://localhost:8080/"
        },
        "outputId": "fe93028b-2de9-41b5-c20b-4c69e0192a64"
      },
      "outputs": [
        {
          "output_type": "stream",
          "name": "stdout",
          "text": [
            "(400, 3)\n",
            "(400, 1)\n"
          ]
        }
      ],
      "source": [
        "\n",
        "\n",
        "# VOLVEMOS A GENERAR UN RANGO DE DATOS\n",
        "\n",
        "\n",
        "seed(1)\n",
        "# CONSTANTE PARA VARIAR LOS VALORES DE LA MATRIZ\n",
        "parametro_controlado=100\n",
        "\n",
        "#Genero valores distribuidos normalmente , en el caso de una de las matrices la media rondara por parametro_controlado\n",
        "# y la otra matriz la media rondara parametro_controlado/2\n",
        "\n",
        "a_2 = normal(loc=0, scale=1, size=200)+(parametro_controlado/2)\n",
        "b_2 = normal(loc=0, scale=1, size=200)+parametro_controlado\n",
        "\n",
        "#Genero valores distribuidos uniformemente , en el caso de una de las matrices la media rondara por parametro_controlado\n",
        "# y la otra matriz la media rondara parametro_controlado/2\n",
        "\n",
        "c_2 = np.random.uniform(size=200) +(parametro_controlado/2)\n",
        "d_2 = np.random.uniform(size=200)+parametro_controlado\n",
        "\n",
        "#Generamos las matrices de identificacion (y label) donde pondremos la matriz con media parametro_controlado/2 como 0 y la otra como 1\n",
        "\n",
        "label_M1_2=np.ones((1,200))\n",
        "label_M2_2=np.zeros((1,200))\n",
        "\n",
        "\n",
        "\n",
        "# GENERAMOS VALORES SESGADOS\n",
        "\n",
        "\n",
        "b2_2=[]\n",
        "for i in b_2:\n",
        "    \n",
        "    \n",
        "    if i < (parametro_controlado*0.1) or i > (parametro_controlado) :\n",
        "        b2_2.append(random.uniform(parametro_controlado-5, parametro_controlado))\n",
        "    else:\n",
        "        b2_2.append(i)\n",
        "\n",
        "a2_2=[]\n",
        "for i in a_2:\n",
        "    \n",
        "    if i < ((parametro_controlado/2)*0.50) or i > (parametro_controlado/2) :\n",
        "        a2_2.append(random.uniform( (parametro_controlado/2)*0.5 , (parametro_controlado/2)*0.98))\n",
        "    else:\n",
        "        a2_2.append(i)\n",
        "\n",
        "\n",
        "# Convertimos los objetos numpy y la lista en dataframe\n",
        "a_2 = pd.DataFrame (a_2, columns = ['normal'])\n",
        "c_2 = pd.DataFrame (c_2, columns = ['uniforme'])\n",
        "a2_2 = pd.DataFrame (a2_2, columns = ['Sesgada'])\n",
        "\n",
        "\n",
        "# Convertimos los objetos numpy y la lista en dataframe\n",
        "\n",
        "b_2 = pd.DataFrame (b_2, columns = ['normal'])\n",
        "d_2 = pd.DataFrame (d_2, columns = ['uniforme'])\n",
        "b2_2 = pd.DataFrame (b2_2, columns = ['Sesgada'])\n",
        "\n",
        "\n",
        "\n",
        "#Generamos una lista de columnas\n",
        "frames_2 = [a_2, c_2, a2_2]\n",
        "frames2_2 = [b_2, d_2, b2_2]\n",
        "\n",
        "\n",
        "#Concatenamos las columnas para generar un dataframe con 3 columnas\n",
        "matriz1_2= pd.concat(frames_2,axis=1)\n",
        "\n",
        "matriz2_2= pd.concat(frames2_2,axis=1)\n",
        "\n",
        "\n",
        "\n",
        "label_M1_2=pd.DataFrame(label_M1_2).T\n",
        "label_M2_2=pd.DataFrame(label_M2_2).T\n",
        "\n",
        "x_label_2 = pd.concat([matriz1_2,matriz2_2])\n",
        "y_label_2 = pd.concat([label_M1_2,label_M2_2])\n",
        "\n",
        "print(x_label_2.shape)\n",
        "\n",
        "print(y_label_2.shape)\n",
        "\n",
        "\n",
        "\n",
        "scaler = MinMaxScaler()\n",
        "\n",
        "X_test_2 = scaler.fit_transform(x_label_2)\n",
        "\n"
      ]
    },
    {
      "cell_type": "code",
      "source": [
        "plt.figure(figsize=(15,10))\n",
        "plt.subplot(3, 2, 1)\n",
        "\n",
        "sns.distplot(matriz1_2['normal'], hist=True, kde=False, \n",
        "             bins=int(20), color = 'red',\n",
        "             hist_kws={'edgecolor':'black'})\n",
        "\n",
        "plt.subplot(2, 2, 2)\n",
        "\n",
        "sns.distplot(matriz1_2['uniforme'], hist=True, kde=False, \n",
        "             bins=int(20), color = 'yellow',\n",
        "             hist_kws={'edgecolor':'black'})\n",
        "\n",
        "plt.subplot(2, 2, 3)\n",
        "\n",
        "\n",
        "sns.distplot(matriz1_2['Sesgada'], hist=True, kde=False, \n",
        "             bins=int(20), color = 'yellow',\n",
        "             hist_kws={'edgecolor':'black'})\n"
      ],
      "metadata": {
        "colab": {
          "base_uri": "https://localhost:8080/",
          "height": 678
        },
        "id": "96VNkss2FNbM",
        "outputId": "75f68a24-bf51-4869-fadd-066599e98568"
      },
      "id": "96VNkss2FNbM",
      "execution_count": 39,
      "outputs": [
        {
          "output_type": "stream",
          "name": "stderr",
          "text": [
            "/usr/local/lib/python3.7/dist-packages/seaborn/distributions.py:2619: FutureWarning: `distplot` is a deprecated function and will be removed in a future version. Please adapt your code to use either `displot` (a figure-level function with similar flexibility) or `histplot` (an axes-level function for histograms).\n",
            "  warnings.warn(msg, FutureWarning)\n"
          ]
        },
        {
          "output_type": "execute_result",
          "data": {
            "text/plain": [
              "<matplotlib.axes._subplots.AxesSubplot at 0x7f32855d3a10>"
            ]
          },
          "metadata": {},
          "execution_count": 39
        },
        {
          "output_type": "display_data",
          "data": {
            "text/plain": [
              "<Figure size 1080x720 with 3 Axes>"
            ],
            "image/png": "[encoded data removed]"
          },
          "metadata": {
            "needs_background": "light"
          }
        }
      ]
    },
    {
      "cell_type": "code",
      "source": [
        "y_pred_test = logreg.predict(X_test_2)\n",
        "\n",
        "y_pred_test"
      ],
      "metadata": {
        "colab": {
          "base_uri": "https://localhost:8080/"
        },
        "id": "beVQLNryEbG6",
        "outputId": "696ab10e-bbca-4c22-978e-e00ddef0b679"
      },
      "id": "beVQLNryEbG6",
      "execution_count": 41,
      "outputs": [
        {
          "output_type": "execute_result",
          "data": {
            "text/plain": [
              "array([1., 1., 1., 1., 1., 1., 1., 1., 1., 1., 1., 1., 1., 1., 1., 1., 1.,\n",
              "       1., 1., 1., 1., 1., 1., 1., 1., 1., 1., 1., 1., 1., 1., 1., 1., 1.,\n",
              "       1., 1., 1., 1., 1., 1., 1., 1., 1., 1., 1., 1., 1., 1., 1., 1., 1.,\n",
              "       1., 1., 1., 1., 1., 1., 1., 1., 1., 1., 1., 1., 1., 1., 1., 1., 1.,\n",
              "       1., 1., 1., 1., 1., 1., 1., 1., 1., 1., 1., 1., 1., 1., 1., 1., 1.,\n",
              "       1., 1., 1., 1., 1., 1., 1., 1., 1., 1., 1., 1., 1., 1., 1., 1., 1.,\n",
              "       1., 1., 1., 1., 1., 1., 1., 1., 1., 1., 1., 1., 1., 1., 1., 1., 1.,\n",
              "       1., 1., 1., 1., 1., 1., 1., 1., 1., 1., 1., 1., 1., 1., 1., 1., 1.,\n",
              "       1., 1., 1., 1., 1., 1., 1., 1., 1., 1., 1., 1., 1., 1., 1., 1., 1.,\n",
              "       1., 1., 1., 1., 1., 1., 1., 1., 1., 1., 1., 1., 1., 1., 1., 1., 1.,\n",
              "       1., 1., 1., 1., 1., 1., 1., 1., 1., 1., 1., 1., 1., 1., 1., 1., 1.,\n",
              "       1., 1., 1., 1., 1., 1., 1., 1., 1., 1., 1., 1., 1., 0., 0., 0., 0.,\n",
              "       0., 0., 0., 0., 0., 0., 0., 0., 0., 0., 0., 0., 0., 0., 0., 0., 0.,\n",
              "       0., 0., 0., 0., 0., 0., 0., 0., 0., 0., 0., 0., 0., 0., 0., 0., 0.,\n",
              "       0., 0., 0., 0., 0., 0., 0., 0., 0., 0., 0., 0., 0., 0., 0., 0., 0.,\n",
              "       0., 0., 0., 0., 0., 0., 0., 0., 0., 0., 0., 0., 0., 0., 0., 0., 0.,\n",
              "       0., 0., 0., 0., 0., 0., 0., 0., 0., 0., 0., 0., 0., 0., 0., 0., 0.,\n",
              "       0., 0., 0., 0., 0., 0., 0., 0., 0., 0., 0., 0., 0., 0., 0., 0., 0.,\n",
              "       0., 0., 0., 0., 0., 0., 0., 0., 0., 0., 0., 0., 0., 0., 0., 0., 0.,\n",
              "       0., 0., 0., 0., 0., 0., 0., 0., 0., 0., 0., 0., 0., 0., 0., 0., 0.,\n",
              "       0., 0., 0., 0., 0., 0., 0., 0., 0., 0., 0., 0., 0., 0., 0., 0., 0.,\n",
              "       0., 0., 0., 0., 0., 0., 0., 0., 0., 0., 0., 0., 0., 0., 0., 0., 0.,\n",
              "       0., 0., 0., 0., 0., 0., 0., 0., 0., 0., 0., 0., 0., 0., 0., 0., 0.,\n",
              "       0., 0., 0., 0., 0., 0., 0., 0., 0.])"
            ]
          },
          "metadata": {},
          "execution_count": 41
        }
      ]
    },
    {
      "cell_type": "code",
      "source": [
        "# INICIAMOS LOS ANALISIS DE METRICAS\n",
        "\n",
        "from sklearn.metrics import accuracy_score\n",
        "\n",
        "print('Model accuracy score: {0:0.4f}'. format(accuracy_score(y_label_2, y_pred_test)))"
      ],
      "metadata": {
        "colab": {
          "base_uri": "https://localhost:8080/"
        },
        "id": "ArlWb0HPEgrC",
        "outputId": "7a5e911c-2a65-432d-8ab2-bc369968b232"
      },
      "id": "ArlWb0HPEgrC",
      "execution_count": 44,
      "outputs": [
        {
          "output_type": "stream",
          "name": "stdout",
          "text": [
            "Model accuracy score: 1.0000\n"
          ]
        }
      ]
    },
    {
      "cell_type": "code",
      "source": [
        "# MATRIZ DE CONFUSION\n",
        "\n",
        "# Print the Confusion Matrix and slice it into four pieces\n",
        "\n",
        "from sklearn.metrics import confusion_matrix\n",
        "\n",
        "cm = confusion_matrix(y_label_2, y_pred_test)\n",
        "\n",
        "print('Confusion matrix\\n\\n', cm)\n",
        "\n",
        "print('\\nTrue Positives(TP) = ', cm[0,0])\n",
        "\n",
        "print('\\nTrue Negatives(TN) = ', cm[1,1])\n",
        "\n",
        "print('\\nFalse Positives(FP) = ', cm[0,1])\n",
        "\n",
        "print('\\nFalse Negatives(FN) = ', cm[1,0])"
      ],
      "metadata": {
        "colab": {
          "base_uri": "https://localhost:8080/"
        },
        "id": "Tm4e1VaSEsG_",
        "outputId": "be51aa7e-39b2-4c82-bef7-f4fde5fc7aab"
      },
      "id": "Tm4e1VaSEsG_",
      "execution_count": 45,
      "outputs": [
        {
          "output_type": "stream",
          "name": "stdout",
          "text": [
            "Confusion matrix\n",
            "\n",
            " [[200   0]\n",
            " [  0 200]]\n",
            "\n",
            "True Positives(TP) =  200\n",
            "\n",
            "True Negatives(TN) =  200\n",
            "\n",
            "False Positives(FP) =  0\n",
            "\n",
            "False Negatives(FN) =  0\n"
          ]
        }
      ]
    },
    {
      "cell_type": "code",
      "source": [
        ""
      ],
      "metadata": {
        "id": "weaPRdkMFAE9"
      },
      "id": "weaPRdkMFAE9",
      "execution_count": null,
      "outputs": []
    }
  ],
  "metadata": {
    "colab": {
      "name": "GENERAR_MATRICES_TP_MATRICES_BALANCEADAS.ipynb",
      "provenance": [],
      "include_colab_link": true
    },
    "kernelspec": {
      "display_name": "Python 3 (ipykernel)",
      "language": "python",
      "name": "python3"
    },
    "language_info": {
      "codemirror_mode": {
        "name": "ipython",
        "version": 3
      },
      "file_extension": ".py",
      "mimetype": "text/x-python",
      "name": "python",
      "nbconvert_exporter": "python",
      "pygments_lexer": "ipython3",
      "version": "3.9.7"
    }
  },
  "nbformat": 4,
  "nbformat_minor": 5
}